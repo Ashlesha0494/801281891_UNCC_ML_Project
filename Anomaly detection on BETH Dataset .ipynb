{
 "cells": [
  {
   "cell_type": "code",
   "execution_count": 4,
   "id": "922ff850",
   "metadata": {},
   "outputs": [],
   "source": [
    "import numpy as np # linear algebra\n",
    "import pandas as pd # data processing, CSV file I/O (e.g. pd.read_csv)\n",
    "import seaborn as sns # viz\n",
    "import matplotlib.pyplot as plt # viz\n",
    "from scipy import stats\n",
    "import json\n",
    "from typing import List, Tuple\n",
    "\n",
    "from sklearn.ensemble import IsolationForest\n",
    "from sklearn.metrics import f1_score, balanced_accuracy_score, roc_auc_score, precision_recall_fscore_support\n",
    "from sklearn import metrics, linear_model\n",
    "\n",
    "import torch\n",
    "import torch.nn as nn\n",
    "import torch.nn.functional as F\n",
    "from torch.utils.data import TensorDataset, DataLoader\n",
    "\n",
    "import warnings\n",
    "warnings.filterwarnings('ignore')"
   ]
  },
  {
   "cell_type": "code",
   "execution_count": null,
   "id": "7fa378b0",
   "metadata": {},
   "outputs": [],
   "source": []
  },
  {
   "cell_type": "code",
   "execution_count": 5,
   "id": "34620112",
   "metadata": {},
   "outputs": [],
   "source": [
    "train_df = pd.read_csv('/Users/ashleshagupta/Downloads/archive/labelled_training_data.csv')\n",
    "test_df = pd.read_csv('/Users/ashleshagupta/Downloads/archive/labelled_testing_data.csv')\n",
    "validation_df = pd.read_csv('/Users/ashleshagupta/Downloads/archive/labelled_validation_data.csv')"
   ]
  },
  {
   "cell_type": "code",
   "execution_count": 6,
   "id": "61e4f908",
   "metadata": {},
   "outputs": [
    {
     "data": {
      "text/plain": [
       "timestamp          float64\n",
       "processId            int64\n",
       "threadId             int64\n",
       "parentProcessId      int64\n",
       "userId               int64\n",
       "mountNamespace       int64\n",
       "processName         object\n",
       "hostName            object\n",
       "eventId              int64\n",
       "eventName           object\n",
       "stackAddresses      object\n",
       "argsNum              int64\n",
       "returnValue          int64\n",
       "args                object\n",
       "sus                  int64\n",
       "evil                 int64\n",
       "dtype: object"
      ]
     },
     "execution_count": 6,
     "metadata": {},
     "output_type": "execute_result"
    }
   ],
   "source": [
    "assert train_df.columns.all() == test_df.columns.all() == validation_df.columns.all()\n",
    "train_df.dtypes"
   ]
  },
  {
   "cell_type": "code",
   "execution_count": 7,
   "id": "a3ce3a17",
   "metadata": {},
   "outputs": [
    {
     "data": {
      "text/html": [
       "<div>\n",
       "<style scoped>\n",
       "    .dataframe tbody tr th:only-of-type {\n",
       "        vertical-align: middle;\n",
       "    }\n",
       "\n",
       "    .dataframe tbody tr th {\n",
       "        vertical-align: top;\n",
       "    }\n",
       "\n",
       "    .dataframe thead th {\n",
       "        text-align: right;\n",
       "    }\n",
       "</style>\n",
       "<table border=\"1\" class=\"dataframe\">\n",
       "  <thead>\n",
       "    <tr style=\"text-align: right;\">\n",
       "      <th></th>\n",
       "      <th>timestamp</th>\n",
       "      <th>processId</th>\n",
       "      <th>threadId</th>\n",
       "      <th>parentProcessId</th>\n",
       "      <th>userId</th>\n",
       "      <th>mountNamespace</th>\n",
       "      <th>processName</th>\n",
       "      <th>hostName</th>\n",
       "      <th>eventId</th>\n",
       "      <th>eventName</th>\n",
       "      <th>stackAddresses</th>\n",
       "      <th>argsNum</th>\n",
       "      <th>returnValue</th>\n",
       "      <th>args</th>\n",
       "      <th>sus</th>\n",
       "      <th>evil</th>\n",
       "    </tr>\n",
       "  </thead>\n",
       "  <tbody>\n",
       "    <tr>\n",
       "      <th>count</th>\n",
       "      <td>763144.000000</td>\n",
       "      <td>763144.000000</td>\n",
       "      <td>763144.000000</td>\n",
       "      <td>763144.000000</td>\n",
       "      <td>763144.000000</td>\n",
       "      <td>7.631440e+05</td>\n",
       "      <td>763144</td>\n",
       "      <td>763144</td>\n",
       "      <td>763144.000000</td>\n",
       "      <td>763144</td>\n",
       "      <td>763144</td>\n",
       "      <td>763144.000000</td>\n",
       "      <td>763144.000000</td>\n",
       "      <td>763144</td>\n",
       "      <td>763144.000000</td>\n",
       "      <td>763144.0</td>\n",
       "    </tr>\n",
       "    <tr>\n",
       "      <th>unique</th>\n",
       "      <td>NaN</td>\n",
       "      <td>NaN</td>\n",
       "      <td>NaN</td>\n",
       "      <td>NaN</td>\n",
       "      <td>NaN</td>\n",
       "      <td>NaN</td>\n",
       "      <td>36</td>\n",
       "      <td>8</td>\n",
       "      <td>NaN</td>\n",
       "      <td>32</td>\n",
       "      <td>97050</td>\n",
       "      <td>NaN</td>\n",
       "      <td>NaN</td>\n",
       "      <td>214720</td>\n",
       "      <td>NaN</td>\n",
       "      <td>NaN</td>\n",
       "    </tr>\n",
       "    <tr>\n",
       "      <th>top</th>\n",
       "      <td>NaN</td>\n",
       "      <td>NaN</td>\n",
       "      <td>NaN</td>\n",
       "      <td>NaN</td>\n",
       "      <td>NaN</td>\n",
       "      <td>NaN</td>\n",
       "      <td>ps</td>\n",
       "      <td>ubuntu</td>\n",
       "      <td>NaN</td>\n",
       "      <td>close</td>\n",
       "      <td>[]</td>\n",
       "      <td>NaN</td>\n",
       "      <td>NaN</td>\n",
       "      <td>[{'name': 'fd', 'type': 'int', 'value': 9}]</td>\n",
       "      <td>NaN</td>\n",
       "      <td>NaN</td>\n",
       "    </tr>\n",
       "    <tr>\n",
       "      <th>freq</th>\n",
       "      <td>NaN</td>\n",
       "      <td>NaN</td>\n",
       "      <td>NaN</td>\n",
       "      <td>NaN</td>\n",
       "      <td>NaN</td>\n",
       "      <td>NaN</td>\n",
       "      <td>406313</td>\n",
       "      <td>190500</td>\n",
       "      <td>NaN</td>\n",
       "      <td>218080</td>\n",
       "      <td>521115</td>\n",
       "      <td>NaN</td>\n",
       "      <td>NaN</td>\n",
       "      <td>107321</td>\n",
       "      <td>NaN</td>\n",
       "      <td>NaN</td>\n",
       "    </tr>\n",
       "    <tr>\n",
       "      <th>mean</th>\n",
       "      <td>1844.582673</td>\n",
       "      <td>6814.763308</td>\n",
       "      <td>6820.265241</td>\n",
       "      <td>1882.216609</td>\n",
       "      <td>2.279034</td>\n",
       "      <td>4.026532e+09</td>\n",
       "      <td>NaN</td>\n",
       "      <td>NaN</td>\n",
       "      <td>288.158953</td>\n",
       "      <td>NaN</td>\n",
       "      <td>NaN</td>\n",
       "      <td>2.672082</td>\n",
       "      <td>17.520924</td>\n",
       "      <td>NaN</td>\n",
       "      <td>0.001663</td>\n",
       "      <td>0.0</td>\n",
       "    </tr>\n",
       "    <tr>\n",
       "      <th>std</th>\n",
       "      <td>1136.638249</td>\n",
       "      <td>1948.871187</td>\n",
       "      <td>1937.068333</td>\n",
       "      <td>2215.563094</td>\n",
       "      <td>37.416576</td>\n",
       "      <td>1.649030e+02</td>\n",
       "      <td>NaN</td>\n",
       "      <td>NaN</td>\n",
       "      <td>385.117778</td>\n",
       "      <td>NaN</td>\n",
       "      <td>NaN</td>\n",
       "      <td>1.340906</td>\n",
       "      <td>318.596662</td>\n",
       "      <td>NaN</td>\n",
       "      <td>0.040744</td>\n",
       "      <td>0.0</td>\n",
       "    </tr>\n",
       "    <tr>\n",
       "      <th>min</th>\n",
       "      <td>132.560721</td>\n",
       "      <td>1.000000</td>\n",
       "      <td>1.000000</td>\n",
       "      <td>0.000000</td>\n",
       "      <td>0.000000</td>\n",
       "      <td>4.026532e+09</td>\n",
       "      <td>NaN</td>\n",
       "      <td>NaN</td>\n",
       "      <td>3.000000</td>\n",
       "      <td>NaN</td>\n",
       "      <td>NaN</td>\n",
       "      <td>0.000000</td>\n",
       "      <td>-115.000000</td>\n",
       "      <td>NaN</td>\n",
       "      <td>0.000000</td>\n",
       "      <td>0.0</td>\n",
       "    </tr>\n",
       "    <tr>\n",
       "      <th>25%</th>\n",
       "      <td>903.250802</td>\n",
       "      <td>7313.000000</td>\n",
       "      <td>7313.000000</td>\n",
       "      <td>187.000000</td>\n",
       "      <td>0.000000</td>\n",
       "      <td>4.026532e+09</td>\n",
       "      <td>NaN</td>\n",
       "      <td>NaN</td>\n",
       "      <td>3.000000</td>\n",
       "      <td>NaN</td>\n",
       "      <td>NaN</td>\n",
       "      <td>1.000000</td>\n",
       "      <td>0.000000</td>\n",
       "      <td>NaN</td>\n",
       "      <td>0.000000</td>\n",
       "      <td>0.0</td>\n",
       "    </tr>\n",
       "    <tr>\n",
       "      <th>50%</th>\n",
       "      <td>1829.203642</td>\n",
       "      <td>7365.000000</td>\n",
       "      <td>7365.000000</td>\n",
       "      <td>1385.000000</td>\n",
       "      <td>0.000000</td>\n",
       "      <td>4.026532e+09</td>\n",
       "      <td>NaN</td>\n",
       "      <td>NaN</td>\n",
       "      <td>62.000000</td>\n",
       "      <td>NaN</td>\n",
       "      <td>NaN</td>\n",
       "      <td>3.000000</td>\n",
       "      <td>0.000000</td>\n",
       "      <td>NaN</td>\n",
       "      <td>0.000000</td>\n",
       "      <td>0.0</td>\n",
       "    </tr>\n",
       "    <tr>\n",
       "      <th>75%</th>\n",
       "      <td>2761.380825</td>\n",
       "      <td>7415.000000</td>\n",
       "      <td>7415.000000</td>\n",
       "      <td>1648.000000</td>\n",
       "      <td>0.000000</td>\n",
       "      <td>4.026532e+09</td>\n",
       "      <td>NaN</td>\n",
       "      <td>NaN</td>\n",
       "      <td>257.000000</td>\n",
       "      <td>NaN</td>\n",
       "      <td>NaN</td>\n",
       "      <td>4.000000</td>\n",
       "      <td>4.000000</td>\n",
       "      <td>NaN</td>\n",
       "      <td>0.000000</td>\n",
       "      <td>0.0</td>\n",
       "    </tr>\n",
       "    <tr>\n",
       "      <th>max</th>\n",
       "      <td>3954.587643</td>\n",
       "      <td>8619.000000</td>\n",
       "      <td>8619.000000</td>\n",
       "      <td>7672.000000</td>\n",
       "      <td>1000.000000</td>\n",
       "      <td>4.026532e+09</td>\n",
       "      <td>NaN</td>\n",
       "      <td>NaN</td>\n",
       "      <td>1010.000000</td>\n",
       "      <td>NaN</td>\n",
       "      <td>NaN</td>\n",
       "      <td>5.000000</td>\n",
       "      <td>8289.000000</td>\n",
       "      <td>NaN</td>\n",
       "      <td>1.000000</td>\n",
       "      <td>0.0</td>\n",
       "    </tr>\n",
       "  </tbody>\n",
       "</table>\n",
       "</div>"
      ],
      "text/plain": [
       "            timestamp      processId       threadId  parentProcessId  \\\n",
       "count   763144.000000  763144.000000  763144.000000    763144.000000   \n",
       "unique            NaN            NaN            NaN              NaN   \n",
       "top               NaN            NaN            NaN              NaN   \n",
       "freq              NaN            NaN            NaN              NaN   \n",
       "mean      1844.582673    6814.763308    6820.265241      1882.216609   \n",
       "std       1136.638249    1948.871187    1937.068333      2215.563094   \n",
       "min        132.560721       1.000000       1.000000         0.000000   \n",
       "25%        903.250802    7313.000000    7313.000000       187.000000   \n",
       "50%       1829.203642    7365.000000    7365.000000      1385.000000   \n",
       "75%       2761.380825    7415.000000    7415.000000      1648.000000   \n",
       "max       3954.587643    8619.000000    8619.000000      7672.000000   \n",
       "\n",
       "               userId  mountNamespace processName hostName        eventId  \\\n",
       "count   763144.000000    7.631440e+05      763144   763144  763144.000000   \n",
       "unique            NaN             NaN          36        8            NaN   \n",
       "top               NaN             NaN          ps   ubuntu            NaN   \n",
       "freq              NaN             NaN      406313   190500            NaN   \n",
       "mean         2.279034    4.026532e+09         NaN      NaN     288.158953   \n",
       "std         37.416576    1.649030e+02         NaN      NaN     385.117778   \n",
       "min          0.000000    4.026532e+09         NaN      NaN       3.000000   \n",
       "25%          0.000000    4.026532e+09         NaN      NaN       3.000000   \n",
       "50%          0.000000    4.026532e+09         NaN      NaN      62.000000   \n",
       "75%          0.000000    4.026532e+09         NaN      NaN     257.000000   \n",
       "max       1000.000000    4.026532e+09         NaN      NaN    1010.000000   \n",
       "\n",
       "       eventName stackAddresses        argsNum    returnValue  \\\n",
       "count     763144         763144  763144.000000  763144.000000   \n",
       "unique        32          97050            NaN            NaN   \n",
       "top        close             []            NaN            NaN   \n",
       "freq      218080         521115            NaN            NaN   \n",
       "mean         NaN            NaN       2.672082      17.520924   \n",
       "std          NaN            NaN       1.340906     318.596662   \n",
       "min          NaN            NaN       0.000000    -115.000000   \n",
       "25%          NaN            NaN       1.000000       0.000000   \n",
       "50%          NaN            NaN       3.000000       0.000000   \n",
       "75%          NaN            NaN       4.000000       4.000000   \n",
       "max          NaN            NaN       5.000000    8289.000000   \n",
       "\n",
       "                                               args            sus      evil  \n",
       "count                                        763144  763144.000000  763144.0  \n",
       "unique                                       214720            NaN       NaN  \n",
       "top     [{'name': 'fd', 'type': 'int', 'value': 9}]            NaN       NaN  \n",
       "freq                                         107321            NaN       NaN  \n",
       "mean                                            NaN       0.001663       0.0  \n",
       "std                                             NaN       0.040744       0.0  \n",
       "min                                             NaN       0.000000       0.0  \n",
       "25%                                             NaN       0.000000       0.0  \n",
       "50%                                             NaN       0.000000       0.0  \n",
       "75%                                             NaN       0.000000       0.0  \n",
       "max                                             NaN       1.000000       0.0  "
      ]
     },
     "execution_count": 7,
     "metadata": {},
     "output_type": "execute_result"
    }
   ],
   "source": [
    "train_df.describe(include=['object', 'float', 'int'])"
   ]
  },
  {
   "cell_type": "code",
   "execution_count": 8,
   "id": "7f6de2fc",
   "metadata": {
    "scrolled": true
   },
   "outputs": [
    {
     "data": {
      "text/plain": [
       "<AxesSubplot:title={'center':'Label Frequency for evil label in Train Dataset'}>"
      ]
     },
     "execution_count": 8,
     "metadata": {},
     "output_type": "execute_result"
    },
    {
     "data": {
      "image/png": "[encoded data removed]",
      "text/plain": [
       "<Figure size 640x480 with 1 Axes>"
      ]
     },
     "metadata": {},
     "output_type": "display_data"
    }
   ],
   "source": [
    "train_df.evil.value_counts().plot(kind='bar', title='Label Frequency for evil label in Train Dataset')"
   ]
  },
  {
   "cell_type": "code",
   "execution_count": 9,
   "id": "28b2cf90",
   "metadata": {},
   "outputs": [
    {
     "data": {
      "text/plain": [
       "<AxesSubplot:title={'center':'Label Frequency for sus label in Train Dataset'}>"
      ]
     },
     "execution_count": 9,
     "metadata": {},
     "output_type": "execute_result"
    },
    {
     "data": {
      "image/png": "[encoded data removed]",
      "text/plain": [
       "<Figure size 640x480 with 1 Axes>"
      ]
     },
     "metadata": {},
     "output_type": "display_data"
    }
   ],
   "source": [
    "train_df.sus.value_counts().plot(kind='bar', title='Label Frequency for sus label in Train Dataset')"
   ]
  },
  {
   "cell_type": "code",
   "execution_count": 10,
   "id": "9623a06f",
   "metadata": {},
   "outputs": [
    {
     "data": {
      "text/plain": [
       "<AxesSubplot:title={'center':'Label Frequency for evil label in Test Dataset'}>"
      ]
     },
     "execution_count": 10,
     "metadata": {},
     "output_type": "execute_result"
    },
    {
     "data": {
      "image/png": "[encoded data removed]",
      "text/plain": [
       "<Figure size 640x480 with 1 Axes>"
      ]
     },
     "metadata": {},
     "output_type": "display_data"
    }
   ],
   "source": [
    "test_df.evil.value_counts().plot(kind='bar', title='Label Frequency for evil label in Test Dataset')"
   ]
  },
  {
   "cell_type": "code",
   "execution_count": 11,
   "id": "d543e5df",
   "metadata": {},
   "outputs": [
    {
     "data": {
      "text/plain": [
       "<AxesSubplot:title={'center':'Label Frequency for sus label in Test Dataset'}>"
      ]
     },
     "execution_count": 11,
     "metadata": {},
     "output_type": "execute_result"
    },
    {
     "data": {
      "image/png": "[encoded data removed]",
      "text/plain": [
       "<Figure size 640x480 with 1 Axes>"
      ]
     },
     "metadata": {},
     "output_type": "display_data"
    }
   ],
   "source": [
    "test_df.sus.value_counts().plot(kind='bar', title='Label Frequency for sus label in Test Dataset')"
   ]
  },
  {
   "cell_type": "code",
   "execution_count": 12,
   "id": "8d006589",
   "metadata": {},
   "outputs": [
    {
     "data": {
      "text/plain": [
       "<AxesSubplot:title={'center':'Label Frequency for evil label in Validation Dataset'}>"
      ]
     },
     "execution_count": 12,
     "metadata": {},
     "output_type": "execute_result"
    },
    {
     "data": {
      "image/png": "[encoded data removed]",
      "text/plain": [
       "<Figure size 640x480 with 1 Axes>"
      ]
     },
     "metadata": {},
     "output_type": "display_data"
    }
   ],
   "source": [
    "validation_df.evil.value_counts().plot(kind='bar', title='Label Frequency for evil label in Validation Dataset')"
   ]
  },
  {
   "cell_type": "code",
   "execution_count": null,
   "id": "044b0839",
   "metadata": {},
   "outputs": [],
   "source": []
  },
  {
   "cell_type": "code",
   "execution_count": 13,
   "id": "fa3b2409",
   "metadata": {
    "scrolled": true
   },
   "outputs": [
    {
     "data": {
      "text/plain": [
       "<AxesSubplot:title={'center':'Label Frequency for sus label in Validation Dataset'}>"
      ]
     },
     "execution_count": 13,
     "metadata": {},
     "output_type": "execute_result"
    },
    {
     "data": {
      "image/png": "[encoded data removed]",
      "text/plain": [
       "<Figure size 640x480 with 1 Axes>"
      ]
     },
     "metadata": {},
     "output_type": "display_data"
    }
   ],
   "source": [
    "validation_df.sus.value_counts().plot(kind='bar', title='Label Frequency for sus label in Validation Dataset')"
   ]
  },
  {
   "cell_type": "code",
   "execution_count": 14,
   "id": "726c7d3b",
   "metadata": {},
   "outputs": [
    {
     "data": {
      "text/html": [
       "<div>\n",
       "<style scoped>\n",
       "    .dataframe tbody tr th:only-of-type {\n",
       "        vertical-align: middle;\n",
       "    }\n",
       "\n",
       "    .dataframe tbody tr th {\n",
       "        vertical-align: top;\n",
       "    }\n",
       "\n",
       "    .dataframe thead th {\n",
       "        text-align: right;\n",
       "    }\n",
       "</style>\n",
       "<table border=\"1\" class=\"dataframe\">\n",
       "  <thead>\n",
       "    <tr style=\"text-align: right;\">\n",
       "      <th></th>\n",
       "      <th></th>\n",
       "      <th>timestamp</th>\n",
       "    </tr>\n",
       "    <tr>\n",
       "      <th>sus</th>\n",
       "      <th>evil</th>\n",
       "      <th></th>\n",
       "    </tr>\n",
       "  </thead>\n",
       "  <tbody>\n",
       "    <tr>\n",
       "      <th>0</th>\n",
       "      <th>0</th>\n",
       "      <td>761875</td>\n",
       "    </tr>\n",
       "    <tr>\n",
       "      <th>1</th>\n",
       "      <th>0</th>\n",
       "      <td>1269</td>\n",
       "    </tr>\n",
       "  </tbody>\n",
       "</table>\n",
       "</div>"
      ],
      "text/plain": [
       "          timestamp\n",
       "sus evil           \n",
       "0   0        761875\n",
       "1   0          1269"
      ]
     },
     "execution_count": 14,
     "metadata": {},
     "output_type": "execute_result"
    }
   ],
   "source": [
    "train_df.groupby(['sus', 'evil'])[['timestamp']].count()"
   ]
  },
  {
   "cell_type": "code",
   "execution_count": 15,
   "id": "41db96c1",
   "metadata": {},
   "outputs": [
    {
     "data": {
      "text/html": [
       "<div>\n",
       "<style scoped>\n",
       "    .dataframe tbody tr th:only-of-type {\n",
       "        vertical-align: middle;\n",
       "    }\n",
       "\n",
       "    .dataframe tbody tr th {\n",
       "        vertical-align: top;\n",
       "    }\n",
       "\n",
       "    .dataframe thead th {\n",
       "        text-align: right;\n",
       "    }\n",
       "</style>\n",
       "<table border=\"1\" class=\"dataframe\">\n",
       "  <thead>\n",
       "    <tr style=\"text-align: right;\">\n",
       "      <th></th>\n",
       "      <th></th>\n",
       "      <th>timestamp</th>\n",
       "    </tr>\n",
       "    <tr>\n",
       "      <th>sus</th>\n",
       "      <th>evil</th>\n",
       "      <th></th>\n",
       "    </tr>\n",
       "  </thead>\n",
       "  <tbody>\n",
       "    <tr>\n",
       "      <th>0</th>\n",
       "      <th>0</th>\n",
       "      <td>17508</td>\n",
       "    </tr>\n",
       "    <tr>\n",
       "      <th rowspan=\"2\" valign=\"top\">1</th>\n",
       "      <th>0</th>\n",
       "      <td>13027</td>\n",
       "    </tr>\n",
       "    <tr>\n",
       "      <th>1</th>\n",
       "      <td>158432</td>\n",
       "    </tr>\n",
       "  </tbody>\n",
       "</table>\n",
       "</div>"
      ],
      "text/plain": [
       "          timestamp\n",
       "sus evil           \n",
       "0   0         17508\n",
       "1   0         13027\n",
       "    1        158432"
      ]
     },
     "execution_count": 15,
     "metadata": {},
     "output_type": "execute_result"
    }
   ],
   "source": [
    "test_df.groupby(['sus', 'evil'])[['timestamp']].count()\n"
   ]
  },
  {
   "cell_type": "code",
   "execution_count": 16,
   "id": "9b8a2410",
   "metadata": {},
   "outputs": [
    {
     "data": {
      "text/plain": [
       "158432"
      ]
     },
     "execution_count": 16,
     "metadata": {},
     "output_type": "execute_result"
    }
   ],
   "source": [
    "test_df.loc[(test_df['sus'] == 1) & (test_df['evil'] == 1)].shape[0]"
   ]
  },
  {
   "cell_type": "code",
   "execution_count": 17,
   "id": "b7a58f36",
   "metadata": {},
   "outputs": [
    {
     "data": {
      "text/plain": [
       "<AxesSubplot:xlabel='sus,evil'>"
      ]
     },
     "execution_count": 17,
     "metadata": {},
     "output_type": "execute_result"
    },
    {
     "data": {
      "image/png": "[encoded data removed]",
      "text/plain": [
       "<Figure size 640x480 with 1 Axes>"
      ]
     },
     "metadata": {},
     "output_type": "display_data"
    }
   ],
   "source": [
    "test_df.groupby(['sus', 'evil'])[['timestamp']].count().plot(kind='bar')"
   ]
  },
  {
   "cell_type": "code",
   "execution_count": 18,
   "id": "e7cfbc45",
   "metadata": {},
   "outputs": [
    {
     "data": {
      "text/html": [
       "<div>\n",
       "<style scoped>\n",
       "    .dataframe tbody tr th:only-of-type {\n",
       "        vertical-align: middle;\n",
       "    }\n",
       "\n",
       "    .dataframe tbody tr th {\n",
       "        vertical-align: top;\n",
       "    }\n",
       "\n",
       "    .dataframe thead th {\n",
       "        text-align: right;\n",
       "    }\n",
       "</style>\n",
       "<table border=\"1\" class=\"dataframe\">\n",
       "  <thead>\n",
       "    <tr style=\"text-align: right;\">\n",
       "      <th></th>\n",
       "      <th></th>\n",
       "      <th>timestamp</th>\n",
       "    </tr>\n",
       "    <tr>\n",
       "      <th>sus</th>\n",
       "      <th>evil</th>\n",
       "      <th></th>\n",
       "    </tr>\n",
       "  </thead>\n",
       "  <tbody>\n",
       "    <tr>\n",
       "      <th>0</th>\n",
       "      <th>0</th>\n",
       "      <td>188181</td>\n",
       "    </tr>\n",
       "    <tr>\n",
       "      <th>1</th>\n",
       "      <th>0</th>\n",
       "      <td>786</td>\n",
       "    </tr>\n",
       "  </tbody>\n",
       "</table>\n",
       "</div>"
      ],
      "text/plain": [
       "          timestamp\n",
       "sus evil           \n",
       "0   0        188181\n",
       "1   0           786"
      ]
     },
     "execution_count": 18,
     "metadata": {},
     "output_type": "execute_result"
    }
   ],
   "source": [
    "validation_df.groupby(['sus', 'evil'])[['timestamp']].count()"
   ]
  },
  {
   "cell_type": "code",
   "execution_count": 19,
   "id": "1025b40e",
   "metadata": {},
   "outputs": [
    {
     "data": {
      "text/plain": [
       "<AxesSubplot:xlabel='sus,evil'>"
      ]
     },
     "execution_count": 19,
     "metadata": {},
     "output_type": "execute_result"
    },
    {
     "data": {
      "image/png": "[encoded data removed]",
      "text/plain": [
       "<Figure size 640x480 with 1 Axes>"
      ]
     },
     "metadata": {},
     "output_type": "display_data"
    }
   ],
   "source": [
    "validation_df.groupby(['sus', 'evil'])[['timestamp']].count().plot(kind='bar')"
   ]
  },
  {
   "cell_type": "code",
   "execution_count": 20,
   "id": "17dcba22",
   "metadata": {},
   "outputs": [],
   "source": [
    "def dataset_to_corr_heatmap(dataframe, title, ax):\n",
    "    corr = dataframe.corr()\n",
    "    sns.heatmap(corr, ax = ax, annot=True, cmap=\"YlGnBu\")\n",
    "    ax.set_title(f'Correlation Plot for {title}')"
   ]
  },
  {
   "cell_type": "code",
   "execution_count": 21,
   "id": "e2d9a1fa",
   "metadata": {},
   "outputs": [
    {
     "data": {
      "image/png": "[encoded data removed]",
      "text/plain": [
       "<Figure size 1500x2000 with 6 Axes>"
      ]
     },
     "metadata": {},
     "output_type": "display_data"
    }
   ],
   "source": [
    "fig, (ax1, ax2, ax3) = plt.subplots(3, 1, figsize = (15,20))\n",
    "fig.tight_layout(pad=10.0)\n",
    "datasets = [train_df, test_df, validation_df]\n",
    "dataset_names = ['train', 'test', 'validation']\n",
    "axs = [ax1, ax2, ax3]\n",
    "\n",
    "for dataset, name, ax in zip(datasets, dataset_names, axs):\n",
    "    dataset_to_corr_heatmap(dataset, name, ax)"
   ]
  },
  {
   "cell_type": "code",
   "execution_count": 22,
   "id": "b73c4d70",
   "metadata": {},
   "outputs": [
    {
     "data": {
      "image/png": "[encoded data removed]",
      "text/plain": [
       "<Figure size 640x480 with 1 Axes>"
      ]
     },
     "metadata": {},
     "output_type": "display_data"
    }
   ],
   "source": [
    "datasets = [train_df, test_df, validation_df]\n",
    "\n",
    "entropy_values = []\n",
    "for dataset in datasets:\n",
    "    dataset_entropy_values = []\n",
    "    for col in dataset.columns:\n",
    "        if col == 'timestamp':\n",
    "            pass\n",
    "        else:\n",
    "            counts = dataset[col].value_counts()\n",
    "            col_entropy = stats.entropy(counts)\n",
    "            dataset_entropy_values.append(col_entropy)\n",
    "            \n",
    "    entropy_values.append(dataset_entropy_values)\n",
    "\n",
    "plt.boxplot(entropy_values)\n",
    "plt.title('Boxplot of Entropy Values')\n",
    "plt.ylabel(\"entropy values\")\n",
    "plt.xticks([0,1,2,3],labels=['','train', 'test', 'validate'])\n",
    "plt.show()"
   ]
  },
  {
   "cell_type": "code",
   "execution_count": 23,
   "id": "2b280566",
   "metadata": {},
   "outputs": [
    {
     "data": {
      "image/png": "[encoded data removed]",
      "text/plain": [
       "<Figure size 640x480 with 1 Axes>"
      ]
     },
     "metadata": {},
     "output_type": "display_data"
    }
   ],
   "source": [
    "datasets = [train_df, test_df, validation_df]\n",
    "\n",
    "variation_values = []\n",
    "for dataset in datasets:\n",
    "    dataset_variation_values = []\n",
    "    for col in dataset.columns:\n",
    "        if col == 'timestamp':\n",
    "            pass\n",
    "        else:\n",
    "            counts = dataset[col].value_counts()\n",
    "            col_variation = stats.variation(counts)\n",
    "            dataset_variation_values.append(col_variation)\n",
    "            \n",
    "    variation_values.append(dataset_variation_values)\n",
    "\n",
    "plt.boxplot(variation_values)\n",
    "plt.title('Boxplot of Variation Values')\n",
    "plt.ylabel(\"Variation values\")\n",
    "plt.xticks([0,1,2,3],labels=['','train', 'test', 'validate'])\n",
    "plt.show()"
   ]
  },
  {
   "cell_type": "code",
   "execution_count": 24,
   "id": "e3b56c11",
   "metadata": {},
   "outputs": [
    {
     "data": {
      "text/html": [
       "<div>\n",
       "<style scoped>\n",
       "    .dataframe tbody tr th:only-of-type {\n",
       "        vertical-align: middle;\n",
       "    }\n",
       "\n",
       "    .dataframe tbody tr th {\n",
       "        vertical-align: top;\n",
       "    }\n",
       "\n",
       "    .dataframe thead th {\n",
       "        text-align: right;\n",
       "    }\n",
       "</style>\n",
       "<table border=\"1\" class=\"dataframe\">\n",
       "  <thead>\n",
       "    <tr style=\"text-align: right;\">\n",
       "      <th></th>\n",
       "      <th>eventId</th>\n",
       "      <th>eventName</th>\n",
       "    </tr>\n",
       "  </thead>\n",
       "  <tbody>\n",
       "    <tr>\n",
       "      <th>0</th>\n",
       "      <td>157</td>\n",
       "      <td>prctl</td>\n",
       "    </tr>\n",
       "    <tr>\n",
       "      <th>1</th>\n",
       "      <td>3</td>\n",
       "      <td>close</td>\n",
       "    </tr>\n",
       "    <tr>\n",
       "      <th>2</th>\n",
       "      <td>1010</td>\n",
       "      <td>sched_process_exit</td>\n",
       "    </tr>\n",
       "    <tr>\n",
       "      <th>3</th>\n",
       "      <td>21</td>\n",
       "      <td>access</td>\n",
       "    </tr>\n",
       "    <tr>\n",
       "      <th>4</th>\n",
       "      <td>1005</td>\n",
       "      <td>security_file_open</td>\n",
       "    </tr>\n",
       "    <tr>\n",
       "      <th>5</th>\n",
       "      <td>257</td>\n",
       "      <td>openat</td>\n",
       "    </tr>\n",
       "    <tr>\n",
       "      <th>6</th>\n",
       "      <td>5</td>\n",
       "      <td>fstat</td>\n",
       "    </tr>\n",
       "    <tr>\n",
       "      <th>7</th>\n",
       "      <td>3</td>\n",
       "      <td>close</td>\n",
       "    </tr>\n",
       "    <tr>\n",
       "      <th>8</th>\n",
       "      <td>1005</td>\n",
       "      <td>security_file_open</td>\n",
       "    </tr>\n",
       "    <tr>\n",
       "      <th>9</th>\n",
       "      <td>257</td>\n",
       "      <td>openat</td>\n",
       "    </tr>\n",
       "  </tbody>\n",
       "</table>\n",
       "</div>"
      ],
      "text/plain": [
       "   eventId           eventName\n",
       "0      157               prctl\n",
       "1        3               close\n",
       "2     1010  sched_process_exit\n",
       "3       21              access\n",
       "4     1005  security_file_open\n",
       "5      257              openat\n",
       "6        5               fstat\n",
       "7        3               close\n",
       "8     1005  security_file_open\n",
       "9      257              openat"
      ]
     },
     "execution_count": 24,
     "metadata": {},
     "output_type": "execute_result"
    }
   ],
   "source": [
    "train_df.loc[:, ['eventId', 'eventName']].head(10)"
   ]
  },
  {
   "cell_type": "code",
   "execution_count": 25,
   "id": "09e5055e",
   "metadata": {},
   "outputs": [
    {
     "data": {
      "text/html": [
       "<div>\n",
       "<style scoped>\n",
       "    .dataframe tbody tr th:only-of-type {\n",
       "        vertical-align: middle;\n",
       "    }\n",
       "\n",
       "    .dataframe tbody tr th {\n",
       "        vertical-align: top;\n",
       "    }\n",
       "\n",
       "    .dataframe thead th {\n",
       "        text-align: right;\n",
       "    }\n",
       "</style>\n",
       "<table border=\"1\" class=\"dataframe\">\n",
       "  <thead>\n",
       "    <tr style=\"text-align: right;\">\n",
       "      <th></th>\n",
       "      <th>processName</th>\n",
       "      <th>hostName</th>\n",
       "      <th>args</th>\n",
       "    </tr>\n",
       "  </thead>\n",
       "  <tbody>\n",
       "    <tr>\n",
       "      <th>0</th>\n",
       "      <td>close</td>\n",
       "      <td>ip-10-100-1-120</td>\n",
       "      <td>[{'name': 'option', 'type': 'int', 'value': 'P...</td>\n",
       "    </tr>\n",
       "    <tr>\n",
       "      <th>1</th>\n",
       "      <td>close</td>\n",
       "      <td>ip-10-100-1-120</td>\n",
       "      <td>[{'name': 'fd', 'type': 'int', 'value': 19}]</td>\n",
       "    </tr>\n",
       "    <tr>\n",
       "      <th>2</th>\n",
       "      <td>close</td>\n",
       "      <td>ip-10-100-1-120</td>\n",
       "      <td>[]</td>\n",
       "    </tr>\n",
       "    <tr>\n",
       "      <th>3</th>\n",
       "      <td>sh</td>\n",
       "      <td>ip-10-100-1-120</td>\n",
       "      <td>[{'name': 'pathname', 'type': 'const char*', '...</td>\n",
       "    </tr>\n",
       "    <tr>\n",
       "      <th>4</th>\n",
       "      <td>sh</td>\n",
       "      <td>ip-10-100-1-120</td>\n",
       "      <td>[{'name': 'pathname', 'type': 'const char*', '...</td>\n",
       "    </tr>\n",
       "    <tr>\n",
       "      <th>5</th>\n",
       "      <td>sh</td>\n",
       "      <td>ip-10-100-1-120</td>\n",
       "      <td>[{'name': 'dirfd', 'type': 'int', 'value': -10...</td>\n",
       "    </tr>\n",
       "    <tr>\n",
       "      <th>6</th>\n",
       "      <td>sh</td>\n",
       "      <td>ip-10-100-1-120</td>\n",
       "      <td>[{'name': 'fd', 'type': 'int', 'value': 3}, {'...</td>\n",
       "    </tr>\n",
       "    <tr>\n",
       "      <th>7</th>\n",
       "      <td>sh</td>\n",
       "      <td>ip-10-100-1-120</td>\n",
       "      <td>[{'name': 'fd', 'type': 'int', 'value': 3}]</td>\n",
       "    </tr>\n",
       "    <tr>\n",
       "      <th>8</th>\n",
       "      <td>sh</td>\n",
       "      <td>ip-10-100-1-120</td>\n",
       "      <td>[{'name': 'pathname', 'type': 'const char*', '...</td>\n",
       "    </tr>\n",
       "    <tr>\n",
       "      <th>9</th>\n",
       "      <td>sh</td>\n",
       "      <td>ip-10-100-1-120</td>\n",
       "      <td>[{'name': 'dirfd', 'type': 'int', 'value': -10...</td>\n",
       "    </tr>\n",
       "  </tbody>\n",
       "</table>\n",
       "</div>"
      ],
      "text/plain": [
       "  processName         hostName  \\\n",
       "0       close  ip-10-100-1-120   \n",
       "1       close  ip-10-100-1-120   \n",
       "2       close  ip-10-100-1-120   \n",
       "3          sh  ip-10-100-1-120   \n",
       "4          sh  ip-10-100-1-120   \n",
       "5          sh  ip-10-100-1-120   \n",
       "6          sh  ip-10-100-1-120   \n",
       "7          sh  ip-10-100-1-120   \n",
       "8          sh  ip-10-100-1-120   \n",
       "9          sh  ip-10-100-1-120   \n",
       "\n",
       "                                                args  \n",
       "0  [{'name': 'option', 'type': 'int', 'value': 'P...  \n",
       "1       [{'name': 'fd', 'type': 'int', 'value': 19}]  \n",
       "2                                                 []  \n",
       "3  [{'name': 'pathname', 'type': 'const char*', '...  \n",
       "4  [{'name': 'pathname', 'type': 'const char*', '...  \n",
       "5  [{'name': 'dirfd', 'type': 'int', 'value': -10...  \n",
       "6  [{'name': 'fd', 'type': 'int', 'value': 3}, {'...  \n",
       "7        [{'name': 'fd', 'type': 'int', 'value': 3}]  \n",
       "8  [{'name': 'pathname', 'type': 'const char*', '...  \n",
       "9  [{'name': 'dirfd', 'type': 'int', 'value': -10...  "
      ]
     },
     "execution_count": 25,
     "metadata": {},
     "output_type": "execute_result"
    }
   ],
   "source": [
    "train_df.loc[:, ['processName', 'hostName', 'args']].head(10)"
   ]
  },
  {
   "cell_type": "code",
   "execution_count": 26,
   "id": "18ace62e",
   "metadata": {},
   "outputs": [],
   "source": [
    "def column_uniques(df, col):\n",
    "    print(f'{col} - Uniques:\\n\\n{df[col].unique()} \\n\\nNo. Uniques: {df[col].nunique()}')"
   ]
  },
  {
   "cell_type": "code",
   "execution_count": 27,
   "id": "5a19da9b",
   "metadata": {},
   "outputs": [
    {
     "name": "stdout",
     "output_type": "stream",
     "text": [
      "processName - Uniques:\n",
      "\n",
      "['close' 'sh' 'run-parts' 'atd' 'systemd-logind' 'systemd'\n",
      " 'systemd-journal' 'dbus-daemon' '(time-dir)' 'systemd-user-ru' 'docker'\n",
      " 'systemd-resolve' 'dockerd' 'containerd-shim' 'amazon-ssm-agen' 'ps'\n",
      " 'cron' 'snapd' 'systemd-network' 'journal-offline' 'kworker/dying'\n",
      " 'ssm-agent-worke' 'packagekitd' 'gdbus' 'gmain' '(tmpfiles)'\n",
      " 'systemd-tmpfile' 'kworker/u30:1' 'poweroff' '(sd-sync)' 'kworker/u30:0'\n",
      " 'kworker/u30:2' 'systemd-timesyn' 'systemd-udevd' '(sd-pam)' 'sshd'] \n",
      "\n",
      "No. Uniques: 36\n"
     ]
    }
   ],
   "source": [
    "column_uniques(train_df, 'processName')"
   ]
  },
  {
   "cell_type": "code",
   "execution_count": 28,
   "id": "ee60c6f3",
   "metadata": {},
   "outputs": [
    {
     "name": "stdout",
     "output_type": "stream",
     "text": [
      "hostName - Uniques:\n",
      "\n",
      "['ip-10-100-1-120' 'ip-10-100-1-173' 'ip-10-100-1-28' 'ip-10-100-1-34'\n",
      " 'ip-10-100-1-55' 'ip-10-100-1-57' 'ip-10-100-1-79' 'ubuntu'] \n",
      "\n",
      "No. Uniques: 8\n"
     ]
    }
   ],
   "source": [
    "column_uniques(train_df, 'hostName')"
   ]
  },
  {
   "cell_type": "code",
   "execution_count": 29,
   "id": "cbc05e7c",
   "metadata": {},
   "outputs": [
    {
     "name": "stdout",
     "output_type": "stream",
     "text": [
      "args - Uniques:\n",
      "\n",
      "[\"[{'name': 'option', 'type': 'int', 'value': 'PR_SET_NAME'}, {'name': 'arg2', 'type': 'unsigned long', 'value': 94819493392601}, {'name': 'arg3', 'type': 'unsigned long', 'value': 94819493392601}, {'name': 'arg4', 'type': 'unsigned long', 'value': 140662171848350}, {'name': 'arg5', 'type': 'unsigned long', 'value': 140662156379904}]\"\n",
      " \"[{'name': 'fd', 'type': 'int', 'value': 19}]\" '[]' ...\n",
      " \"[{'name': 'option', 'type': 'int', 'value': 'PR_SET_SECCOMP'}, {'name': 'arg2', 'type': 'unsigned long', 'value': 2}, {'name': 'arg3', 'type': 'unsigned long', 'value': 94764243566176}, {'name': 'arg4', 'type': 'unsigned long', 'value': 140537881935518}, {'name': 'arg5', 'type': 'unsigned long', 'value': 0}]\"\n",
      " \"[{'name': 'option', 'type': 'int', 'value': 'PR_SET_NO_NEW_PRIVS'}, {'name': 'arg2', 'type': 'unsigned long', 'value': 1}, {'name': 'arg3', 'type': 'unsigned long', 'value': 0}, {'name': 'arg4', 'type': 'unsigned long', 'value': 140537881935518}, {'name': 'arg5', 'type': 'unsigned long', 'value': 0}]\"\n",
      " \"[{'name': 'pid', 'type': 'pid_t', 'value': 7275}, {'name': 'sig', 'type': 'int', 'value': 14}]\"] \n",
      "\n",
      "No. Uniques: 214720\n"
     ]
    }
   ],
   "source": [
    "column_uniques(train_df, 'args')"
   ]
  },
  {
   "cell_type": "code",
   "execution_count": 30,
   "id": "ffb04eca",
   "metadata": {},
   "outputs": [
    {
     "data": {
      "text/plain": [
       "177122          [{'name': 'fd', 'type': 'int', 'value': 9}]\n",
       "373280    [{'name': 'cap', 'type': 'int', 'value': 'CAP_...\n",
       "308561    [{'name': 'dirfd', 'type': 'int', 'value': -10...\n",
       "5304      [{'name': 'pathname', 'type': 'const char*', '...\n",
       "443058    [{'name': 'pathname', 'type': 'const char*', '...\n",
       "30792           [{'name': 'fd', 'type': 'int', 'value': 9}]\n",
       "696842    [{'name': 'oldfd', 'type': 'int', 'value': 5},...\n",
       "231563    [{'name': 'dirfd', 'type': 'int', 'value': -10...\n",
       "596975    [{'name': 'fd', 'type': 'unsigned int', 'value...\n",
       "194924    [{'name': 'pathname', 'type': 'const char*', '...\n",
       "246369    [{'name': 'pathname', 'type': 'const char*', '...\n",
       "749766    [{'name': 'dirfd', 'type': 'int', 'value': -10...\n",
       "632617    [{'name': 'dirfd', 'type': 'int', 'value': 6},...\n",
       "615272    [{'name': 'dirfd', 'type': 'int', 'value': 6},...\n",
       "500954    [{'name': 'pathname', 'type': 'const char*', '...\n",
       "Name: args, dtype: object"
      ]
     },
     "execution_count": 30,
     "metadata": {},
     "output_type": "execute_result"
    }
   ],
   "source": [
    "sample = train_df['args'].sample(n=15, random_state=1)\n",
    "sample"
   ]
  },
  {
   "cell_type": "code",
   "execution_count": 31,
   "id": "3e524e86",
   "metadata": {},
   "outputs": [
    {
     "data": {
      "text/html": [
       "<div>\n",
       "<style scoped>\n",
       "    .dataframe tbody tr th:only-of-type {\n",
       "        vertical-align: middle;\n",
       "    }\n",
       "\n",
       "    .dataframe tbody tr th {\n",
       "        vertical-align: top;\n",
       "    }\n",
       "\n",
       "    .dataframe thead th {\n",
       "        text-align: right;\n",
       "    }\n",
       "</style>\n",
       "<table border=\"1\" class=\"dataframe\">\n",
       "  <thead>\n",
       "    <tr style=\"text-align: right;\">\n",
       "      <th></th>\n",
       "      <th>args</th>\n",
       "    </tr>\n",
       "  </thead>\n",
       "  <tbody>\n",
       "    <tr>\n",
       "      <th>177122</th>\n",
       "      <td>[{'name': 'fd', 'type': 'int', 'value': 9}]</td>\n",
       "    </tr>\n",
       "    <tr>\n",
       "      <th>373280</th>\n",
       "      <td>[{'name': 'cap', 'type': 'int', 'value': 'CAP_...</td>\n",
       "    </tr>\n",
       "    <tr>\n",
       "      <th>308561</th>\n",
       "      <td>[{'name': 'dirfd', 'type': 'int', 'value': -10...</td>\n",
       "    </tr>\n",
       "    <tr>\n",
       "      <th>5304</th>\n",
       "      <td>[{'name': 'pathname', 'type': 'const char*', '...</td>\n",
       "    </tr>\n",
       "    <tr>\n",
       "      <th>443058</th>\n",
       "      <td>[{'name': 'pathname', 'type': 'const char*', '...</td>\n",
       "    </tr>\n",
       "    <tr>\n",
       "      <th>30792</th>\n",
       "      <td>[{'name': 'fd', 'type': 'int', 'value': 9}]</td>\n",
       "    </tr>\n",
       "    <tr>\n",
       "      <th>696842</th>\n",
       "      <td>[{'name': 'oldfd', 'type': 'int', 'value': 5},...</td>\n",
       "    </tr>\n",
       "    <tr>\n",
       "      <th>231563</th>\n",
       "      <td>[{'name': 'dirfd', 'type': 'int', 'value': -10...</td>\n",
       "    </tr>\n",
       "    <tr>\n",
       "      <th>596975</th>\n",
       "      <td>[{'name': 'fd', 'type': 'unsigned int', 'value...</td>\n",
       "    </tr>\n",
       "    <tr>\n",
       "      <th>194924</th>\n",
       "      <td>[{'name': 'pathname', 'type': 'const char*', '...</td>\n",
       "    </tr>\n",
       "    <tr>\n",
       "      <th>246369</th>\n",
       "      <td>[{'name': 'pathname', 'type': 'const char*', '...</td>\n",
       "    </tr>\n",
       "    <tr>\n",
       "      <th>749766</th>\n",
       "      <td>[{'name': 'dirfd', 'type': 'int', 'value': -10...</td>\n",
       "    </tr>\n",
       "    <tr>\n",
       "      <th>632617</th>\n",
       "      <td>[{'name': 'dirfd', 'type': 'int', 'value': 6},...</td>\n",
       "    </tr>\n",
       "    <tr>\n",
       "      <th>615272</th>\n",
       "      <td>[{'name': 'dirfd', 'type': 'int', 'value': 6},...</td>\n",
       "    </tr>\n",
       "    <tr>\n",
       "      <th>500954</th>\n",
       "      <td>[{'name': 'pathname', 'type': 'const char*', '...</td>\n",
       "    </tr>\n",
       "  </tbody>\n",
       "</table>\n",
       "</div>"
      ],
      "text/plain": [
       "                                                     args\n",
       "177122        [{'name': 'fd', 'type': 'int', 'value': 9}]\n",
       "373280  [{'name': 'cap', 'type': 'int', 'value': 'CAP_...\n",
       "308561  [{'name': 'dirfd', 'type': 'int', 'value': -10...\n",
       "5304    [{'name': 'pathname', 'type': 'const char*', '...\n",
       "443058  [{'name': 'pathname', 'type': 'const char*', '...\n",
       "30792         [{'name': 'fd', 'type': 'int', 'value': 9}]\n",
       "696842  [{'name': 'oldfd', 'type': 'int', 'value': 5},...\n",
       "231563  [{'name': 'dirfd', 'type': 'int', 'value': -10...\n",
       "596975  [{'name': 'fd', 'type': 'unsigned int', 'value...\n",
       "194924  [{'name': 'pathname', 'type': 'const char*', '...\n",
       "246369  [{'name': 'pathname', 'type': 'const char*', '...\n",
       "749766  [{'name': 'dirfd', 'type': 'int', 'value': -10...\n",
       "632617  [{'name': 'dirfd', 'type': 'int', 'value': 6},...\n",
       "615272  [{'name': 'dirfd', 'type': 'int', 'value': 6},...\n",
       "500954  [{'name': 'pathname', 'type': 'const char*', '..."
      ]
     },
     "execution_count": 31,
     "metadata": {},
     "output_type": "execute_result"
    }
   ],
   "source": [
    "sample_df = pd.DataFrame(sample)\n",
    "sample_df"
   ]
  },
  {
   "cell_type": "code",
   "execution_count": 32,
   "id": "66a49db0",
   "metadata": {},
   "outputs": [
    {
     "data": {
      "text/plain": [
       "args    [{'name': 'fd', 'type': 'int', 'value': 9}]\n",
       "Name: 177122, dtype: object"
      ]
     },
     "execution_count": 32,
     "metadata": {},
     "output_type": "execute_result"
    }
   ],
   "source": [
    "sample_df.iloc[0]"
   ]
  },
  {
   "cell_type": "code",
   "execution_count": 33,
   "id": "9286686a",
   "metadata": {},
   "outputs": [
    {
     "data": {
      "text/plain": [
       "\"[{'name': 'fd', 'type': 'int', 'value': 9}]\""
      ]
     },
     "execution_count": 33,
     "metadata": {},
     "output_type": "execute_result"
    }
   ],
   "source": [
    "sample1 = sample_df.iloc[0]\n",
    "sample1 = sample1.replace(\"[\", \"\").replace(\"]\", \"\").replace(\"'\", '\"')\n",
    "sample1 = sample1[0]\n",
    "sample1"
   ]
  },
  {
   "cell_type": "code",
   "execution_count": 34,
   "id": "fd64f049",
   "metadata": {},
   "outputs": [],
   "source": [
    "sample1 = json.dumps(sample1)\n",
    "test1 = json.loads(sample1)"
   ]
  },
  {
   "cell_type": "code",
   "execution_count": 35,
   "id": "ec4de55e",
   "metadata": {},
   "outputs": [
    {
     "data": {
      "text/plain": [
       "\"[{'name': 'fd', 'type': 'int', 'value': 9}]\""
      ]
     },
     "execution_count": 35,
     "metadata": {},
     "output_type": "execute_result"
    }
   ],
   "source": [
    "test1"
   ]
  },
  {
   "cell_type": "code",
   "execution_count": 36,
   "id": "93c4d12d",
   "metadata": {},
   "outputs": [],
   "source": [
    "def strip_string(input_str):\n",
    "    \"\"\"\n",
    "    Takes an input string and replaces specific\n",
    "    puncutation marks with nothing\n",
    "    \n",
    "    Args:\n",
    "        input_str: The string to be processed\n",
    "    \n",
    "    Returns:\n",
    "        The processed string\n",
    "    \"\"\"\n",
    "    assert isinstance(input_str, str)\n",
    "    return input_str.replace(\"[\", \"\").replace(\"]\", \"\").replace(\"'\", '\"')"
   ]
  },
  {
   "cell_type": "code",
   "execution_count": 37,
   "id": "2fc4626b",
   "metadata": {},
   "outputs": [],
   "source": [
    "sample_df['stripped_args'] = sample_df['args'].apply(strip_string)"
   ]
  },
  {
   "cell_type": "code",
   "execution_count": 38,
   "id": "1509d6ff",
   "metadata": {},
   "outputs": [
    {
     "name": "stdout",
     "output_type": "stream",
     "text": [
      "{\"name\": \"fd\", \"type\": \"int\", \"value\": 9}\n",
      "\n",
      "\n",
      "{\"name\": \"cap\", \"type\": \"int\", \"value\": \"CAP_DAC_OVERRIDE\"}\n",
      "\n",
      "\n",
      "{\"name\": \"dirfd\", \"type\": \"int\", \"value\": -100}, {\"name\": \"pathname\", \"type\": \"const char*\", \"value\": \"/proc/88/stat\"}, {\"name\": \"flags\", \"type\": \"unsigned long\", \"value\": \"O_RDONLY\"}, {\"name\": \"mode\", \"type\": \"int*\", \"value\": 3849653931}\n",
      "\n",
      "\n",
      "{\"name\": \"pathname\", \"type\": \"const char*\", \"value\": \"/proc/7141\"}, {\"name\": \"statbuf\", \"type\": \"struct stat*\", \"value\": \"0x7F521D47F680\"}\n",
      "\n",
      "\n",
      "{\"name\": \"pathname\", \"type\": \"const char*\", \"value\": \"/proc/7582/comm\"}, {\"name\": \"flags\", \"type\": \"int\", \"value\": \"O_RDONLY|O_LARGEFILE\"}, {\"name\": \"dev\", \"type\": \"dev_t\", \"value\": 5}, {\"name\": \"inode\", \"type\": \"unsigned long\", \"value\": 46124}\n",
      "\n",
      "\n",
      "{\"name\": \"fd\", \"type\": \"int\", \"value\": 9}\n",
      "\n",
      "\n",
      "{\"name\": \"oldfd\", \"type\": \"int\", \"value\": 5}, {\"name\": \"newfd\", \"type\": \"int\", \"value\": 1}\n",
      "\n",
      "\n",
      "{\"name\": \"dirfd\", \"type\": \"int\", \"value\": -100}, {\"name\": \"pathname\", \"type\": \"const char*\", \"value\": \"/proc/22/stat\"}, {\"name\": \"flags\", \"type\": \"int\", \"value\": \"O_RDONLY\"}, {\"name\": \"mode\", \"type\": \"mode_t\", \"value\": 1532681899}\n",
      "\n",
      "\n",
      "{\"name\": \"fd\", \"type\": \"unsigned int\", \"value\": 16}\n",
      "\n",
      "\n",
      "{\"name\": \"pathname\", \"type\": \"const char*\", \"value\": \"/proc/504/status\"}, {\"name\": \"flags\", \"type\": \"int\", \"value\": \"O_RDONLY|O_LARGEFILE\"}, {\"name\": \"dev\", \"type\": \"dev_t\", \"value\": 5}, {\"name\": \"inode\", \"type\": \"unsigned long\", \"value\": 38957}\n",
      "\n",
      "\n",
      "{\"name\": \"pathname\", \"type\": \"const char*\", \"value\": \"/proc/646/stat\"}, {\"name\": \"flags\", \"type\": \"int\", \"value\": \"O_RDONLY|O_LARGEFILE\"}, {\"name\": \"dev\", \"type\": \"dev_t\", \"value\": 5}, {\"name\": \"inode\", \"type\": \"unsigned long\", \"value\": 39185}\n",
      "\n",
      "\n",
      "{\"name\": \"dirfd\", \"type\": \"int\", \"value\": -100}, {\"name\": \"pathname\", \"type\": \"const char*\", \"value\": \"/lib/x86_64-linux-gnu/libnsl.so.1\"}, {\"name\": \"flags\", \"type\": \"int\", \"value\": \"O_RDONLY|O_CLOEXEC\"}, {\"name\": \"mode\", \"type\": \"mode_t\", \"value\": 1472757592}\n",
      "\n",
      "\n",
      "{\"name\": \"dirfd\", \"type\": \"int\", \"value\": 6}, {\"name\": \"pathname\", \"type\": \"const char*\", \"value\": \"sys\"}, {\"name\": \"flags\", \"type\": \"int\", \"value\": \"O_RDONLY|O_NOFOLLOW|O_CLOEXEC|O_PATH\"}, {\"name\": \"mode\", \"type\": \"mode_t\", \"value\": 678600742}\n",
      "\n",
      "\n",
      "{\"name\": \"dirfd\", \"type\": \"int\", \"value\": 6}, {\"name\": \"pathname\", \"type\": \"const char*\", \"value\": \"sys\"}, {\"name\": \"flags\", \"type\": \"unsigned long\", \"value\": \"O_RDONLY|O_NOFOLLOW|O_CLOEXEC|O_PATH\"}, {\"name\": \"mode\", \"type\": \"int*\", \"value\": 1215512614}\n",
      "\n",
      "\n",
      "{\"name\": \"pathname\", \"type\": \"const char*\", \"value\": \"/sys/devices/virtual/dmi/id/sys_vendor\"}, {\"name\": \"flags\", \"type\": \"unsigned int\", \"value\": \"O_RDONLY|O_LARGEFILE\"}, {\"name\": \"dev\", \"type\": \"dev_t\", \"value\": 22}, {\"name\": \"inode\", \"type\": \"unsigned long\", \"value\": 721}\n",
      "\n",
      "\n"
     ]
    }
   ],
   "source": [
    "for i in sample_df['stripped_args']:\n",
    "    print(i)\n",
    "    print('\\n')"
   ]
  },
  {
   "cell_type": "code",
   "execution_count": 39,
   "id": "54114cd8",
   "metadata": {},
   "outputs": [
    {
     "data": {
      "text/plain": [
       "\"[{'name': 'dirfd', 'type': 'int', 'value': -100}, {'name': 'pathname', 'type': 'const char*', 'value': '/proc/88/stat'}, {'name': 'flags', 'type': 'unsigned long', 'value': 'O_RDONLY'}, {'name': 'mode', 'type': 'int*', 'value': 3849653931}]\""
      ]
     },
     "execution_count": 39,
     "metadata": {},
     "output_type": "execute_result"
    }
   ],
   "source": [
    "sample_df['args'].iloc[2]"
   ]
  },
  {
   "cell_type": "code",
   "execution_count": 40,
   "id": "982d8529",
   "metadata": {},
   "outputs": [],
   "source": [
    "test2 = sample_df['args'].iloc[2]"
   ]
  },
  {
   "cell_type": "code",
   "execution_count": 41,
   "id": "834086c3",
   "metadata": {},
   "outputs": [
    {
     "data": {
      "text/plain": [
       "[\"[{'name': 'dirfd', 'type': 'int', 'value': -100\",\n",
       " \" {'name': 'pathname', 'type': 'const char*', 'value': '/proc/88/stat'\",\n",
       " \" {'name': 'flags', 'type': 'unsigned long', 'value': 'O_RDONLY'\",\n",
       " \" {'name': 'mode', 'type': 'int*', 'value': 3849653931}]\"]"
      ]
     },
     "execution_count": 41,
     "metadata": {},
     "output_type": "execute_result"
    }
   ],
   "source": [
    "split_test2 = test2.split('},')\n",
    "split_test2"
   ]
  },
  {
   "cell_type": "code",
   "execution_count": 42,
   "id": "523f7466",
   "metadata": {},
   "outputs": [
    {
     "data": {
      "text/plain": [
       "['name: dirfd, type: int, value: -100',\n",
       " 'name: pathname, type: const char*, value: /proc/88/stat',\n",
       " 'name: flags, type: unsigned long, value: O_RDONLY',\n",
       " 'name: mode, type: int*, value: 3849653931']"
      ]
     },
     "execution_count": 42,
     "metadata": {},
     "output_type": "execute_result"
    }
   ],
   "source": [
    "strings = [string.replace(\"[\", \"\").replace(\"]\", \"\").replace(\"{\", \"\").replace(\"'\", \"\").replace(\"}\", \"\").lstrip(\" \") for string in split_test2]\n",
    "strings"
   ]
  },
  {
   "cell_type": "code",
   "execution_count": 43,
   "id": "554dd593",
   "metadata": {},
   "outputs": [
    {
     "data": {
      "text/plain": [
       "[['name: dirfd', ' type: int', ' value: -100'],\n",
       " ['name: pathname', ' type: const char*', ' value: /proc/88/stat'],\n",
       " ['name: flags', ' type: unsigned long', ' value: O_RDONLY'],\n",
       " ['name: mode', ' type: int*', ' value: 3849653931']]"
      ]
     },
     "execution_count": 43,
     "metadata": {},
     "output_type": "execute_result"
    }
   ],
   "source": [
    "list_of_lists = [item.split(',') for item in strings]\n",
    "list_of_lists"
   ]
  },
  {
   "cell_type": "code",
   "execution_count": 44,
   "id": "e7dfc766",
   "metadata": {},
   "outputs": [],
   "source": [
    "output = []\n",
    "for lst in list_of_lists:\n",
    "    for key_value in lst:\n",
    "        key, value = key_value.split(': ', 1)\n",
    "        if not output or key in output[-1]:\n",
    "            output.append({})\n",
    "        output[-1][key] = value"
   ]
  },
  {
   "cell_type": "code",
   "execution_count": 45,
   "id": "c46d2b4e",
   "metadata": {},
   "outputs": [
    {
     "data": {
      "text/plain": [
       "[{'name': 'dirfd', ' type': 'int', ' value': '-100'},\n",
       " {'name': 'pathname', ' type': 'const char*', ' value': '/proc/88/stat'},\n",
       " {'name': 'flags', ' type': 'unsigned long', ' value': 'O_RDONLY'},\n",
       " {'name': 'mode', ' type': 'int*', ' value': '3849653931'}]"
      ]
     },
     "execution_count": 45,
     "metadata": {},
     "output_type": "execute_result"
    }
   ],
   "source": [
    "output\n"
   ]
  },
  {
   "cell_type": "code",
   "execution_count": 46,
   "id": "36eb6525",
   "metadata": {},
   "outputs": [],
   "source": [
    "json_output = json.dumps(output)"
   ]
  },
  {
   "cell_type": "code",
   "execution_count": 47,
   "id": "ae83d306",
   "metadata": {},
   "outputs": [
    {
     "data": {
      "text/html": [
       "<div>\n",
       "<style scoped>\n",
       "    .dataframe tbody tr th:only-of-type {\n",
       "        vertical-align: middle;\n",
       "    }\n",
       "\n",
       "    .dataframe tbody tr th {\n",
       "        vertical-align: top;\n",
       "    }\n",
       "\n",
       "    .dataframe thead th {\n",
       "        text-align: right;\n",
       "    }\n",
       "</style>\n",
       "<table border=\"1\" class=\"dataframe\">\n",
       "  <thead>\n",
       "    <tr style=\"text-align: right;\">\n",
       "      <th></th>\n",
       "      <th>name</th>\n",
       "      <th>type</th>\n",
       "      <th>value</th>\n",
       "    </tr>\n",
       "  </thead>\n",
       "  <tbody>\n",
       "    <tr>\n",
       "      <th>0</th>\n",
       "      <td>dirfd</td>\n",
       "      <td>int</td>\n",
       "      <td>-100</td>\n",
       "    </tr>\n",
       "    <tr>\n",
       "      <th>1</th>\n",
       "      <td>pathname</td>\n",
       "      <td>const char*</td>\n",
       "      <td>/proc/88/stat</td>\n",
       "    </tr>\n",
       "    <tr>\n",
       "      <th>2</th>\n",
       "      <td>flags</td>\n",
       "      <td>unsigned long</td>\n",
       "      <td>O_RDONLY</td>\n",
       "    </tr>\n",
       "    <tr>\n",
       "      <th>3</th>\n",
       "      <td>mode</td>\n",
       "      <td>int*</td>\n",
       "      <td>3849653931</td>\n",
       "    </tr>\n",
       "  </tbody>\n",
       "</table>\n",
       "</div>"
      ],
      "text/plain": [
       "       name           type          value\n",
       "0     dirfd            int           -100\n",
       "1  pathname    const char*  /proc/88/stat\n",
       "2     flags  unsigned long       O_RDONLY\n",
       "3      mode           int*     3849653931"
      ]
     },
     "execution_count": 47,
     "metadata": {},
     "output_type": "execute_result"
    }
   ],
   "source": [
    "interim_df = pd.json_normalize(json.loads(json_output))\n",
    "interim_df"
   ]
  },
  {
   "cell_type": "code",
   "execution_count": 48,
   "id": "3a6b3a30",
   "metadata": {},
   "outputs": [
    {
     "data": {
      "text/plain": [
       "name    0            dirfd\n",
       "        1         pathname\n",
       "        2            flags\n",
       "        3             mode\n",
       " type   0              int\n",
       "        1      const char*\n",
       "        2    unsigned long\n",
       "        3             int*\n",
       " value  0             -100\n",
       "        1    /proc/88/stat\n",
       "        2         O_RDONLY\n",
       "        3       3849653931\n",
       "dtype: object"
      ]
     },
     "execution_count": 48,
     "metadata": {},
     "output_type": "execute_result"
    }
   ],
   "source": [
    "interim_df.unstack()"
   ]
  },
  {
   "cell_type": "code",
   "execution_count": 49,
   "id": "ee990eb6",
   "metadata": {},
   "outputs": [
    {
     "data": {
      "text/html": [
       "<div>\n",
       "<style scoped>\n",
       "    .dataframe tbody tr th:only-of-type {\n",
       "        vertical-align: middle;\n",
       "    }\n",
       "\n",
       "    .dataframe tbody tr th {\n",
       "        vertical-align: top;\n",
       "    }\n",
       "\n",
       "    .dataframe thead th {\n",
       "        text-align: right;\n",
       "    }\n",
       "</style>\n",
       "<table border=\"1\" class=\"dataframe\">\n",
       "  <thead>\n",
       "    <tr style=\"text-align: right;\">\n",
       "      <th></th>\n",
       "      <th></th>\n",
       "      <th>0</th>\n",
       "    </tr>\n",
       "  </thead>\n",
       "  <tbody>\n",
       "    <tr>\n",
       "      <th rowspan=\"4\" valign=\"top\">name</th>\n",
       "      <th>0</th>\n",
       "      <td>dirfd</td>\n",
       "    </tr>\n",
       "    <tr>\n",
       "      <th>1</th>\n",
       "      <td>pathname</td>\n",
       "    </tr>\n",
       "    <tr>\n",
       "      <th>2</th>\n",
       "      <td>flags</td>\n",
       "    </tr>\n",
       "    <tr>\n",
       "      <th>3</th>\n",
       "      <td>mode</td>\n",
       "    </tr>\n",
       "    <tr>\n",
       "      <th rowspan=\"4\" valign=\"top\">type</th>\n",
       "      <th>0</th>\n",
       "      <td>int</td>\n",
       "    </tr>\n",
       "    <tr>\n",
       "      <th>1</th>\n",
       "      <td>const char*</td>\n",
       "    </tr>\n",
       "    <tr>\n",
       "      <th>2</th>\n",
       "      <td>unsigned long</td>\n",
       "    </tr>\n",
       "    <tr>\n",
       "      <th>3</th>\n",
       "      <td>int*</td>\n",
       "    </tr>\n",
       "    <tr>\n",
       "      <th rowspan=\"4\" valign=\"top\">value</th>\n",
       "      <th>0</th>\n",
       "      <td>-100</td>\n",
       "    </tr>\n",
       "    <tr>\n",
       "      <th>1</th>\n",
       "      <td>/proc/88/stat</td>\n",
       "    </tr>\n",
       "    <tr>\n",
       "      <th>2</th>\n",
       "      <td>O_RDONLY</td>\n",
       "    </tr>\n",
       "    <tr>\n",
       "      <th>3</th>\n",
       "      <td>3849653931</td>\n",
       "    </tr>\n",
       "  </tbody>\n",
       "</table>\n",
       "</div>"
      ],
      "text/plain": [
       "                      0\n",
       "name   0          dirfd\n",
       "       1       pathname\n",
       "       2          flags\n",
       "       3           mode\n",
       " type  0            int\n",
       "       1    const char*\n",
       "       2  unsigned long\n",
       "       3           int*\n",
       " value 0           -100\n",
       "       1  /proc/88/stat\n",
       "       2       O_RDONLY\n",
       "       3     3849653931"
      ]
     },
     "execution_count": 49,
     "metadata": {},
     "output_type": "execute_result"
    }
   ],
   "source": [
    "interim_df.unstack().to_frame()"
   ]
  },
  {
   "cell_type": "code",
   "execution_count": 50,
   "id": "37ecfbf4",
   "metadata": {},
   "outputs": [
    {
     "data": {
      "text/html": [
       "<div>\n",
       "<style scoped>\n",
       "    .dataframe tbody tr th:only-of-type {\n",
       "        vertical-align: middle;\n",
       "    }\n",
       "\n",
       "    .dataframe tbody tr th {\n",
       "        vertical-align: top;\n",
       "    }\n",
       "\n",
       "    .dataframe thead tr th {\n",
       "        text-align: left;\n",
       "    }\n",
       "</style>\n",
       "<table border=\"1\" class=\"dataframe\">\n",
       "  <thead>\n",
       "    <tr>\n",
       "      <th></th>\n",
       "      <th colspan=\"4\" halign=\"left\">name</th>\n",
       "      <th colspan=\"4\" halign=\"left\">type</th>\n",
       "      <th colspan=\"4\" halign=\"left\">value</th>\n",
       "    </tr>\n",
       "    <tr>\n",
       "      <th></th>\n",
       "      <th>0</th>\n",
       "      <th>1</th>\n",
       "      <th>2</th>\n",
       "      <th>3</th>\n",
       "      <th>0</th>\n",
       "      <th>1</th>\n",
       "      <th>2</th>\n",
       "      <th>3</th>\n",
       "      <th>0</th>\n",
       "      <th>1</th>\n",
       "      <th>2</th>\n",
       "      <th>3</th>\n",
       "    </tr>\n",
       "  </thead>\n",
       "  <tbody>\n",
       "    <tr>\n",
       "      <th>0</th>\n",
       "      <td>dirfd</td>\n",
       "      <td>pathname</td>\n",
       "      <td>flags</td>\n",
       "      <td>mode</td>\n",
       "      <td>int</td>\n",
       "      <td>const char*</td>\n",
       "      <td>unsigned long</td>\n",
       "      <td>int*</td>\n",
       "      <td>-100</td>\n",
       "      <td>/proc/88/stat</td>\n",
       "      <td>O_RDONLY</td>\n",
       "      <td>3849653931</td>\n",
       "    </tr>\n",
       "  </tbody>\n",
       "</table>\n",
       "</div>"
      ],
      "text/plain": [
       "    name                         type                                    \\\n",
       "       0         1      2     3     0            1              2     3   \n",
       "0  dirfd  pathname  flags  mode   int  const char*  unsigned long  int*   \n",
       "\n",
       "   value                                       \n",
       "       0              1         2           3  \n",
       "0   -100  /proc/88/stat  O_RDONLY  3849653931  "
      ]
     },
     "execution_count": 50,
     "metadata": {},
     "output_type": "execute_result"
    }
   ],
   "source": [
    "interim_df.unstack().to_frame().T"
   ]
  },
  {
   "cell_type": "code",
   "execution_count": 51,
   "id": "f8a68863",
   "metadata": {},
   "outputs": [
    {
     "data": {
      "text/html": [
       "<div>\n",
       "<style scoped>\n",
       "    .dataframe tbody tr th:only-of-type {\n",
       "        vertical-align: middle;\n",
       "    }\n",
       "\n",
       "    .dataframe tbody tr th {\n",
       "        vertical-align: top;\n",
       "    }\n",
       "\n",
       "    .dataframe thead tr th {\n",
       "        text-align: left;\n",
       "    }\n",
       "</style>\n",
       "<table border=\"1\" class=\"dataframe\">\n",
       "  <thead>\n",
       "    <tr>\n",
       "      <th></th>\n",
       "      <th>type</th>\n",
       "      <th>value</th>\n",
       "      <th>name</th>\n",
       "      <th>type</th>\n",
       "      <th>value</th>\n",
       "      <th>name</th>\n",
       "      <th>type</th>\n",
       "      <th>value</th>\n",
       "      <th>name</th>\n",
       "      <th>type</th>\n",
       "      <th>value</th>\n",
       "      <th>name</th>\n",
       "    </tr>\n",
       "    <tr>\n",
       "      <th></th>\n",
       "      <th>0</th>\n",
       "      <th>0</th>\n",
       "      <th>0</th>\n",
       "      <th>1</th>\n",
       "      <th>1</th>\n",
       "      <th>1</th>\n",
       "      <th>2</th>\n",
       "      <th>2</th>\n",
       "      <th>2</th>\n",
       "      <th>3</th>\n",
       "      <th>3</th>\n",
       "      <th>3</th>\n",
       "    </tr>\n",
       "  </thead>\n",
       "  <tbody>\n",
       "    <tr>\n",
       "      <th>0</th>\n",
       "      <td>int</td>\n",
       "      <td>-100</td>\n",
       "      <td>dirfd</td>\n",
       "      <td>const char*</td>\n",
       "      <td>/proc/88/stat</td>\n",
       "      <td>pathname</td>\n",
       "      <td>unsigned long</td>\n",
       "      <td>O_RDONLY</td>\n",
       "      <td>flags</td>\n",
       "      <td>int*</td>\n",
       "      <td>3849653931</td>\n",
       "      <td>mode</td>\n",
       "    </tr>\n",
       "  </tbody>\n",
       "</table>\n",
       "</div>"
      ],
      "text/plain": [
       "   type  value   name         type          value      name           type  \\\n",
       "      0      0      0            1              1         1              2   \n",
       "0   int   -100  dirfd  const char*  /proc/88/stat  pathname  unsigned long   \n",
       "\n",
       "      value   name  type       value  name  \n",
       "          2      2     3           3     3  \n",
       "0  O_RDONLY  flags  int*  3849653931  mode  "
      ]
     },
     "execution_count": 51,
     "metadata": {},
     "output_type": "execute_result"
    }
   ],
   "source": [
    "interim_df.unstack().to_frame().T.sort_index(1,1)"
   ]
  },
  {
   "cell_type": "code",
   "execution_count": 52,
   "id": "aace66dd",
   "metadata": {},
   "outputs": [
    {
     "data": {
      "text/html": [
       "<div>\n",
       "<style scoped>\n",
       "    .dataframe tbody tr th:only-of-type {\n",
       "        vertical-align: middle;\n",
       "    }\n",
       "\n",
       "    .dataframe tbody tr th {\n",
       "        vertical-align: top;\n",
       "    }\n",
       "\n",
       "    .dataframe thead th {\n",
       "        text-align: right;\n",
       "    }\n",
       "</style>\n",
       "<table border=\"1\" class=\"dataframe\">\n",
       "  <thead>\n",
       "    <tr style=\"text-align: right;\">\n",
       "      <th></th>\n",
       "      <th>type_0</th>\n",
       "      <th>value_0</th>\n",
       "      <th>name_0</th>\n",
       "      <th>type_1</th>\n",
       "      <th>value_1</th>\n",
       "      <th>name_1</th>\n",
       "      <th>type_2</th>\n",
       "      <th>value_2</th>\n",
       "      <th>name_2</th>\n",
       "      <th>type_3</th>\n",
       "      <th>value_3</th>\n",
       "      <th>name_3</th>\n",
       "    </tr>\n",
       "  </thead>\n",
       "  <tbody>\n",
       "    <tr>\n",
       "      <th>0</th>\n",
       "      <td>int</td>\n",
       "      <td>-100</td>\n",
       "      <td>dirfd</td>\n",
       "      <td>const char*</td>\n",
       "      <td>/proc/88/stat</td>\n",
       "      <td>pathname</td>\n",
       "      <td>unsigned long</td>\n",
       "      <td>O_RDONLY</td>\n",
       "      <td>flags</td>\n",
       "      <td>int*</td>\n",
       "      <td>3849653931</td>\n",
       "      <td>mode</td>\n",
       "    </tr>\n",
       "  </tbody>\n",
       "</table>\n",
       "</div>"
      ],
      "text/plain": [
       "   type_0  value_0 name_0       type_1        value_1    name_1  \\\n",
       "0     int     -100  dirfd  const char*  /proc/88/stat  pathname   \n",
       "\n",
       "          type_2   value_2 name_2  type_3     value_3 name_3  \n",
       "0  unsigned long  O_RDONLY  flags    int*  3849653931   mode  "
      ]
     },
     "execution_count": 52,
     "metadata": {},
     "output_type": "execute_result"
    }
   ],
   "source": [
    "final_df = interim_df.unstack().to_frame().T.sort_index(1,1)\n",
    "final_df.columns = final_df.columns.map('{0[0]}_{0[1]}'.format)\n",
    "final_df"
   ]
  },
  {
   "cell_type": "code",
   "execution_count": 53,
   "id": "aa7174f1",
   "metadata": {},
   "outputs": [],
   "source": [
    "def process_args_row(row):\n",
    "    \"\"\"\n",
    "    Takes an single value from the 'args' column\n",
    "    and returns a processed dataframe row\n",
    "    \n",
    "    Args:\n",
    "        row: A single 'args' value/row\n",
    "        \n",
    "    Returns:\n",
    "        final_df: The processed dataframe row\n",
    "    \"\"\"\n",
    "    \n",
    "    row = row.split('},')\n",
    "    row = [string.replace(\"[\", \"\").replace(\"]\", \"\").replace(\"{\", \"\").replace(\"'\", \"\").replace(\"}\", \"\").lstrip(\" \") for string in row]\n",
    "    row = [item.split(',') for item in row]\n",
    "    \n",
    "    processed_row = []\n",
    "    for lst in row:\n",
    "        for key_value in lst:\n",
    "            key, value = key_value.split(': ', 1)\n",
    "            if not processed_row or key in processed_row[-1]:\n",
    "                processed_row.append({})\n",
    "            processed_row[-1][key] = value\n",
    "    \n",
    "    json_row = json.dumps(processed_row)\n",
    "    row_df = pd.json_normalize(json.loads(json_row))\n",
    "    \n",
    "    final_df = row_df.unstack().to_frame().T.sort_index(1,1)\n",
    "    final_df.columns = final_df.columns.map('{0[0]}_{0[1]}'.format)\n",
    "    \n",
    "    return final_df"
   ]
  },
  {
   "cell_type": "code",
   "execution_count": 54,
   "id": "126081de",
   "metadata": {},
   "outputs": [],
   "source": [
    "data = sample_df['args'].tolist()"
   ]
  },
  {
   "cell_type": "code",
   "execution_count": 55,
   "id": "5a5e61fa",
   "metadata": {},
   "outputs": [],
   "source": [
    "processed_dataframes = []\n",
    "\n",
    "for row in data:\n",
    "    ret = process_args_row(row)\n",
    "    processed_dataframes.append(ret)"
   ]
  },
  {
   "cell_type": "code",
   "execution_count": 56,
   "id": "55d5f4cc",
   "metadata": {},
   "outputs": [
    {
     "data": {
      "text/html": [
       "<div>\n",
       "<style scoped>\n",
       "    .dataframe tbody tr th:only-of-type {\n",
       "        vertical-align: middle;\n",
       "    }\n",
       "\n",
       "    .dataframe tbody tr th {\n",
       "        vertical-align: top;\n",
       "    }\n",
       "\n",
       "    .dataframe thead th {\n",
       "        text-align: right;\n",
       "    }\n",
       "</style>\n",
       "<table border=\"1\" class=\"dataframe\">\n",
       "  <thead>\n",
       "    <tr style=\"text-align: right;\">\n",
       "      <th></th>\n",
       "      <th>type_0</th>\n",
       "      <th>value_0</th>\n",
       "      <th>name_0</th>\n",
       "      <th>type_1</th>\n",
       "      <th>value_1</th>\n",
       "      <th>name_1</th>\n",
       "      <th>type_2</th>\n",
       "      <th>value_2</th>\n",
       "      <th>name_2</th>\n",
       "      <th>type_3</th>\n",
       "      <th>value_3</th>\n",
       "      <th>name_3</th>\n",
       "    </tr>\n",
       "  </thead>\n",
       "  <tbody>\n",
       "    <tr>\n",
       "      <th>0</th>\n",
       "      <td>int</td>\n",
       "      <td>9</td>\n",
       "      <td>fd</td>\n",
       "      <td>NaN</td>\n",
       "      <td>NaN</td>\n",
       "      <td>NaN</td>\n",
       "      <td>NaN</td>\n",
       "      <td>NaN</td>\n",
       "      <td>NaN</td>\n",
       "      <td>NaN</td>\n",
       "      <td>NaN</td>\n",
       "      <td>NaN</td>\n",
       "    </tr>\n",
       "    <tr>\n",
       "      <th>1</th>\n",
       "      <td>int</td>\n",
       "      <td>CAP_DAC_OVERRIDE</td>\n",
       "      <td>cap</td>\n",
       "      <td>NaN</td>\n",
       "      <td>NaN</td>\n",
       "      <td>NaN</td>\n",
       "      <td>NaN</td>\n",
       "      <td>NaN</td>\n",
       "      <td>NaN</td>\n",
       "      <td>NaN</td>\n",
       "      <td>NaN</td>\n",
       "      <td>NaN</td>\n",
       "    </tr>\n",
       "    <tr>\n",
       "      <th>2</th>\n",
       "      <td>int</td>\n",
       "      <td>-100</td>\n",
       "      <td>dirfd</td>\n",
       "      <td>const char*</td>\n",
       "      <td>/proc/88/stat</td>\n",
       "      <td>pathname</td>\n",
       "      <td>unsigned long</td>\n",
       "      <td>O_RDONLY</td>\n",
       "      <td>flags</td>\n",
       "      <td>int*</td>\n",
       "      <td>3849653931</td>\n",
       "      <td>mode</td>\n",
       "    </tr>\n",
       "    <tr>\n",
       "      <th>3</th>\n",
       "      <td>const char*</td>\n",
       "      <td>/proc/7141</td>\n",
       "      <td>pathname</td>\n",
       "      <td>struct stat*</td>\n",
       "      <td>0x7F521D47F680</td>\n",
       "      <td>statbuf</td>\n",
       "      <td>NaN</td>\n",
       "      <td>NaN</td>\n",
       "      <td>NaN</td>\n",
       "      <td>NaN</td>\n",
       "      <td>NaN</td>\n",
       "      <td>NaN</td>\n",
       "    </tr>\n",
       "    <tr>\n",
       "      <th>4</th>\n",
       "      <td>const char*</td>\n",
       "      <td>/proc/7582/comm</td>\n",
       "      <td>pathname</td>\n",
       "      <td>int</td>\n",
       "      <td>O_RDONLY|O_LARGEFILE</td>\n",
       "      <td>flags</td>\n",
       "      <td>dev_t</td>\n",
       "      <td>5</td>\n",
       "      <td>dev</td>\n",
       "      <td>unsigned long</td>\n",
       "      <td>46124</td>\n",
       "      <td>inode</td>\n",
       "    </tr>\n",
       "    <tr>\n",
       "      <th>5</th>\n",
       "      <td>int</td>\n",
       "      <td>9</td>\n",
       "      <td>fd</td>\n",
       "      <td>NaN</td>\n",
       "      <td>NaN</td>\n",
       "      <td>NaN</td>\n",
       "      <td>NaN</td>\n",
       "      <td>NaN</td>\n",
       "      <td>NaN</td>\n",
       "      <td>NaN</td>\n",
       "      <td>NaN</td>\n",
       "      <td>NaN</td>\n",
       "    </tr>\n",
       "    <tr>\n",
       "      <th>6</th>\n",
       "      <td>int</td>\n",
       "      <td>5</td>\n",
       "      <td>oldfd</td>\n",
       "      <td>int</td>\n",
       "      <td>1</td>\n",
       "      <td>newfd</td>\n",
       "      <td>NaN</td>\n",
       "      <td>NaN</td>\n",
       "      <td>NaN</td>\n",
       "      <td>NaN</td>\n",
       "      <td>NaN</td>\n",
       "      <td>NaN</td>\n",
       "    </tr>\n",
       "    <tr>\n",
       "      <th>7</th>\n",
       "      <td>int</td>\n",
       "      <td>-100</td>\n",
       "      <td>dirfd</td>\n",
       "      <td>const char*</td>\n",
       "      <td>/proc/22/stat</td>\n",
       "      <td>pathname</td>\n",
       "      <td>int</td>\n",
       "      <td>O_RDONLY</td>\n",
       "      <td>flags</td>\n",
       "      <td>mode_t</td>\n",
       "      <td>1532681899</td>\n",
       "      <td>mode</td>\n",
       "    </tr>\n",
       "    <tr>\n",
       "      <th>8</th>\n",
       "      <td>unsigned int</td>\n",
       "      <td>16</td>\n",
       "      <td>fd</td>\n",
       "      <td>NaN</td>\n",
       "      <td>NaN</td>\n",
       "      <td>NaN</td>\n",
       "      <td>NaN</td>\n",
       "      <td>NaN</td>\n",
       "      <td>NaN</td>\n",
       "      <td>NaN</td>\n",
       "      <td>NaN</td>\n",
       "      <td>NaN</td>\n",
       "    </tr>\n",
       "    <tr>\n",
       "      <th>9</th>\n",
       "      <td>const char*</td>\n",
       "      <td>/proc/504/status</td>\n",
       "      <td>pathname</td>\n",
       "      <td>int</td>\n",
       "      <td>O_RDONLY|O_LARGEFILE</td>\n",
       "      <td>flags</td>\n",
       "      <td>dev_t</td>\n",
       "      <td>5</td>\n",
       "      <td>dev</td>\n",
       "      <td>unsigned long</td>\n",
       "      <td>38957</td>\n",
       "      <td>inode</td>\n",
       "    </tr>\n",
       "    <tr>\n",
       "      <th>10</th>\n",
       "      <td>const char*</td>\n",
       "      <td>/proc/646/stat</td>\n",
       "      <td>pathname</td>\n",
       "      <td>int</td>\n",
       "      <td>O_RDONLY|O_LARGEFILE</td>\n",
       "      <td>flags</td>\n",
       "      <td>dev_t</td>\n",
       "      <td>5</td>\n",
       "      <td>dev</td>\n",
       "      <td>unsigned long</td>\n",
       "      <td>39185</td>\n",
       "      <td>inode</td>\n",
       "    </tr>\n",
       "    <tr>\n",
       "      <th>11</th>\n",
       "      <td>int</td>\n",
       "      <td>-100</td>\n",
       "      <td>dirfd</td>\n",
       "      <td>const char*</td>\n",
       "      <td>/lib/x86_64-linux-gnu/libnsl.so.1</td>\n",
       "      <td>pathname</td>\n",
       "      <td>int</td>\n",
       "      <td>O_RDONLY|O_CLOEXEC</td>\n",
       "      <td>flags</td>\n",
       "      <td>mode_t</td>\n",
       "      <td>1472757592</td>\n",
       "      <td>mode</td>\n",
       "    </tr>\n",
       "    <tr>\n",
       "      <th>12</th>\n",
       "      <td>int</td>\n",
       "      <td>6</td>\n",
       "      <td>dirfd</td>\n",
       "      <td>const char*</td>\n",
       "      <td>sys</td>\n",
       "      <td>pathname</td>\n",
       "      <td>int</td>\n",
       "      <td>O_RDONLY|O_NOFOLLOW|O_CLOEXEC|O_PATH</td>\n",
       "      <td>flags</td>\n",
       "      <td>mode_t</td>\n",
       "      <td>678600742</td>\n",
       "      <td>mode</td>\n",
       "    </tr>\n",
       "    <tr>\n",
       "      <th>13</th>\n",
       "      <td>int</td>\n",
       "      <td>6</td>\n",
       "      <td>dirfd</td>\n",
       "      <td>const char*</td>\n",
       "      <td>sys</td>\n",
       "      <td>pathname</td>\n",
       "      <td>unsigned long</td>\n",
       "      <td>O_RDONLY|O_NOFOLLOW|O_CLOEXEC|O_PATH</td>\n",
       "      <td>flags</td>\n",
       "      <td>int*</td>\n",
       "      <td>1215512614</td>\n",
       "      <td>mode</td>\n",
       "    </tr>\n",
       "    <tr>\n",
       "      <th>14</th>\n",
       "      <td>const char*</td>\n",
       "      <td>/sys/devices/virtual/dmi/id/sys_vendor</td>\n",
       "      <td>pathname</td>\n",
       "      <td>unsigned int</td>\n",
       "      <td>O_RDONLY|O_LARGEFILE</td>\n",
       "      <td>flags</td>\n",
       "      <td>dev_t</td>\n",
       "      <td>22</td>\n",
       "      <td>dev</td>\n",
       "      <td>unsigned long</td>\n",
       "      <td>721</td>\n",
       "      <td>inode</td>\n",
       "    </tr>\n",
       "  </tbody>\n",
       "</table>\n",
       "</div>"
      ],
      "text/plain": [
       "          type_0                                 value_0    name_0  \\\n",
       "0            int                                       9        fd   \n",
       "1            int                        CAP_DAC_OVERRIDE       cap   \n",
       "2            int                                    -100     dirfd   \n",
       "3    const char*                              /proc/7141  pathname   \n",
       "4    const char*                         /proc/7582/comm  pathname   \n",
       "5            int                                       9        fd   \n",
       "6            int                                       5     oldfd   \n",
       "7            int                                    -100     dirfd   \n",
       "8   unsigned int                                      16        fd   \n",
       "9    const char*                        /proc/504/status  pathname   \n",
       "10   const char*                          /proc/646/stat  pathname   \n",
       "11           int                                    -100     dirfd   \n",
       "12           int                                       6     dirfd   \n",
       "13           int                                       6     dirfd   \n",
       "14   const char*  /sys/devices/virtual/dmi/id/sys_vendor  pathname   \n",
       "\n",
       "          type_1                            value_1    name_1         type_2  \\\n",
       "0            NaN                                NaN       NaN            NaN   \n",
       "1            NaN                                NaN       NaN            NaN   \n",
       "2    const char*                      /proc/88/stat  pathname  unsigned long   \n",
       "3   struct stat*                     0x7F521D47F680   statbuf            NaN   \n",
       "4            int               O_RDONLY|O_LARGEFILE     flags          dev_t   \n",
       "5            NaN                                NaN       NaN            NaN   \n",
       "6            int                                  1     newfd            NaN   \n",
       "7    const char*                      /proc/22/stat  pathname            int   \n",
       "8            NaN                                NaN       NaN            NaN   \n",
       "9            int               O_RDONLY|O_LARGEFILE     flags          dev_t   \n",
       "10           int               O_RDONLY|O_LARGEFILE     flags          dev_t   \n",
       "11   const char*  /lib/x86_64-linux-gnu/libnsl.so.1  pathname            int   \n",
       "12   const char*                                sys  pathname            int   \n",
       "13   const char*                                sys  pathname  unsigned long   \n",
       "14  unsigned int               O_RDONLY|O_LARGEFILE     flags          dev_t   \n",
       "\n",
       "                                 value_2 name_2         type_3     value_3  \\\n",
       "0                                    NaN    NaN            NaN         NaN   \n",
       "1                                    NaN    NaN            NaN         NaN   \n",
       "2                               O_RDONLY  flags           int*  3849653931   \n",
       "3                                    NaN    NaN            NaN         NaN   \n",
       "4                                      5    dev  unsigned long       46124   \n",
       "5                                    NaN    NaN            NaN         NaN   \n",
       "6                                    NaN    NaN            NaN         NaN   \n",
       "7                               O_RDONLY  flags         mode_t  1532681899   \n",
       "8                                    NaN    NaN            NaN         NaN   \n",
       "9                                      5    dev  unsigned long       38957   \n",
       "10                                     5    dev  unsigned long       39185   \n",
       "11                    O_RDONLY|O_CLOEXEC  flags         mode_t  1472757592   \n",
       "12  O_RDONLY|O_NOFOLLOW|O_CLOEXEC|O_PATH  flags         mode_t   678600742   \n",
       "13  O_RDONLY|O_NOFOLLOW|O_CLOEXEC|O_PATH  flags           int*  1215512614   \n",
       "14                                    22    dev  unsigned long         721   \n",
       "\n",
       "   name_3  \n",
       "0     NaN  \n",
       "1     NaN  \n",
       "2    mode  \n",
       "3     NaN  \n",
       "4   inode  \n",
       "5     NaN  \n",
       "6     NaN  \n",
       "7    mode  \n",
       "8     NaN  \n",
       "9   inode  \n",
       "10  inode  \n",
       "11   mode  \n",
       "12   mode  \n",
       "13   mode  \n",
       "14  inode  "
      ]
     },
     "execution_count": 56,
     "metadata": {},
     "output_type": "execute_result"
    }
   ],
   "source": [
    "processed = pd.concat(processed_dataframes).reset_index(drop=True)\n",
    "processed.columns = processed.columns.str.lstrip()\n",
    "processed"
   ]
  },
  {
   "cell_type": "code",
   "execution_count": 57,
   "id": "0f7a6170",
   "metadata": {},
   "outputs": [
    {
     "data": {
      "text/html": [
       "<div>\n",
       "<style scoped>\n",
       "    .dataframe tbody tr th:only-of-type {\n",
       "        vertical-align: middle;\n",
       "    }\n",
       "\n",
       "    .dataframe tbody tr th {\n",
       "        vertical-align: top;\n",
       "    }\n",
       "\n",
       "    .dataframe thead th {\n",
       "        text-align: right;\n",
       "    }\n",
       "</style>\n",
       "<table border=\"1\" class=\"dataframe\">\n",
       "  <thead>\n",
       "    <tr style=\"text-align: right;\">\n",
       "      <th></th>\n",
       "      <th>args</th>\n",
       "      <th>stripped_args</th>\n",
       "      <th>type_0</th>\n",
       "      <th>value_0</th>\n",
       "      <th>name_0</th>\n",
       "      <th>type_1</th>\n",
       "      <th>value_1</th>\n",
       "      <th>name_1</th>\n",
       "      <th>type_2</th>\n",
       "      <th>value_2</th>\n",
       "      <th>name_2</th>\n",
       "      <th>type_3</th>\n",
       "      <th>value_3</th>\n",
       "      <th>name_3</th>\n",
       "    </tr>\n",
       "  </thead>\n",
       "  <tbody>\n",
       "    <tr>\n",
       "      <th>0</th>\n",
       "      <td>[{'name': 'fd', 'type': 'int', 'value': 9}]</td>\n",
       "      <td>{\"name\": \"fd\", \"type\": \"int\", \"value\": 9}</td>\n",
       "      <td>int</td>\n",
       "      <td>9</td>\n",
       "      <td>fd</td>\n",
       "      <td>NaN</td>\n",
       "      <td>NaN</td>\n",
       "      <td>NaN</td>\n",
       "      <td>NaN</td>\n",
       "      <td>NaN</td>\n",
       "      <td>NaN</td>\n",
       "      <td>NaN</td>\n",
       "      <td>NaN</td>\n",
       "      <td>NaN</td>\n",
       "    </tr>\n",
       "    <tr>\n",
       "      <th>1</th>\n",
       "      <td>[{'name': 'cap', 'type': 'int', 'value': 'CAP_...</td>\n",
       "      <td>{\"name\": \"cap\", \"type\": \"int\", \"value\": \"CAP_D...</td>\n",
       "      <td>int</td>\n",
       "      <td>CAP_DAC_OVERRIDE</td>\n",
       "      <td>cap</td>\n",
       "      <td>NaN</td>\n",
       "      <td>NaN</td>\n",
       "      <td>NaN</td>\n",
       "      <td>NaN</td>\n",
       "      <td>NaN</td>\n",
       "      <td>NaN</td>\n",
       "      <td>NaN</td>\n",
       "      <td>NaN</td>\n",
       "      <td>NaN</td>\n",
       "    </tr>\n",
       "    <tr>\n",
       "      <th>2</th>\n",
       "      <td>[{'name': 'dirfd', 'type': 'int', 'value': -10...</td>\n",
       "      <td>{\"name\": \"dirfd\", \"type\": \"int\", \"value\": -100...</td>\n",
       "      <td>int</td>\n",
       "      <td>-100</td>\n",
       "      <td>dirfd</td>\n",
       "      <td>const char*</td>\n",
       "      <td>/proc/88/stat</td>\n",
       "      <td>pathname</td>\n",
       "      <td>unsigned long</td>\n",
       "      <td>O_RDONLY</td>\n",
       "      <td>flags</td>\n",
       "      <td>int*</td>\n",
       "      <td>3849653931</td>\n",
       "      <td>mode</td>\n",
       "    </tr>\n",
       "    <tr>\n",
       "      <th>3</th>\n",
       "      <td>[{'name': 'pathname', 'type': 'const char*', '...</td>\n",
       "      <td>{\"name\": \"pathname\", \"type\": \"const char*\", \"v...</td>\n",
       "      <td>const char*</td>\n",
       "      <td>/proc/7141</td>\n",
       "      <td>pathname</td>\n",
       "      <td>struct stat*</td>\n",
       "      <td>0x7F521D47F680</td>\n",
       "      <td>statbuf</td>\n",
       "      <td>NaN</td>\n",
       "      <td>NaN</td>\n",
       "      <td>NaN</td>\n",
       "      <td>NaN</td>\n",
       "      <td>NaN</td>\n",
       "      <td>NaN</td>\n",
       "    </tr>\n",
       "    <tr>\n",
       "      <th>4</th>\n",
       "      <td>[{'name': 'pathname', 'type': 'const char*', '...</td>\n",
       "      <td>{\"name\": \"pathname\", \"type\": \"const char*\", \"v...</td>\n",
       "      <td>const char*</td>\n",
       "      <td>/proc/7582/comm</td>\n",
       "      <td>pathname</td>\n",
       "      <td>int</td>\n",
       "      <td>O_RDONLY|O_LARGEFILE</td>\n",
       "      <td>flags</td>\n",
       "      <td>dev_t</td>\n",
       "      <td>5</td>\n",
       "      <td>dev</td>\n",
       "      <td>unsigned long</td>\n",
       "      <td>46124</td>\n",
       "      <td>inode</td>\n",
       "    </tr>\n",
       "    <tr>\n",
       "      <th>5</th>\n",
       "      <td>[{'name': 'fd', 'type': 'int', 'value': 9}]</td>\n",
       "      <td>{\"name\": \"fd\", \"type\": \"int\", \"value\": 9}</td>\n",
       "      <td>int</td>\n",
       "      <td>9</td>\n",
       "      <td>fd</td>\n",
       "      <td>NaN</td>\n",
       "      <td>NaN</td>\n",
       "      <td>NaN</td>\n",
       "      <td>NaN</td>\n",
       "      <td>NaN</td>\n",
       "      <td>NaN</td>\n",
       "      <td>NaN</td>\n",
       "      <td>NaN</td>\n",
       "      <td>NaN</td>\n",
       "    </tr>\n",
       "    <tr>\n",
       "      <th>6</th>\n",
       "      <td>[{'name': 'oldfd', 'type': 'int', 'value': 5},...</td>\n",
       "      <td>{\"name\": \"oldfd\", \"type\": \"int\", \"value\": 5}, ...</td>\n",
       "      <td>int</td>\n",
       "      <td>5</td>\n",
       "      <td>oldfd</td>\n",
       "      <td>int</td>\n",
       "      <td>1</td>\n",
       "      <td>newfd</td>\n",
       "      <td>NaN</td>\n",
       "      <td>NaN</td>\n",
       "      <td>NaN</td>\n",
       "      <td>NaN</td>\n",
       "      <td>NaN</td>\n",
       "      <td>NaN</td>\n",
       "    </tr>\n",
       "    <tr>\n",
       "      <th>7</th>\n",
       "      <td>[{'name': 'dirfd', 'type': 'int', 'value': -10...</td>\n",
       "      <td>{\"name\": \"dirfd\", \"type\": \"int\", \"value\": -100...</td>\n",
       "      <td>int</td>\n",
       "      <td>-100</td>\n",
       "      <td>dirfd</td>\n",
       "      <td>const char*</td>\n",
       "      <td>/proc/22/stat</td>\n",
       "      <td>pathname</td>\n",
       "      <td>int</td>\n",
       "      <td>O_RDONLY</td>\n",
       "      <td>flags</td>\n",
       "      <td>mode_t</td>\n",
       "      <td>1532681899</td>\n",
       "      <td>mode</td>\n",
       "    </tr>\n",
       "    <tr>\n",
       "      <th>8</th>\n",
       "      <td>[{'name': 'fd', 'type': 'unsigned int', 'value...</td>\n",
       "      <td>{\"name\": \"fd\", \"type\": \"unsigned int\", \"value\"...</td>\n",
       "      <td>unsigned int</td>\n",
       "      <td>16</td>\n",
       "      <td>fd</td>\n",
       "      <td>NaN</td>\n",
       "      <td>NaN</td>\n",
       "      <td>NaN</td>\n",
       "      <td>NaN</td>\n",
       "      <td>NaN</td>\n",
       "      <td>NaN</td>\n",
       "      <td>NaN</td>\n",
       "      <td>NaN</td>\n",
       "      <td>NaN</td>\n",
       "    </tr>\n",
       "    <tr>\n",
       "      <th>9</th>\n",
       "      <td>[{'name': 'pathname', 'type': 'const char*', '...</td>\n",
       "      <td>{\"name\": \"pathname\", \"type\": \"const char*\", \"v...</td>\n",
       "      <td>const char*</td>\n",
       "      <td>/proc/504/status</td>\n",
       "      <td>pathname</td>\n",
       "      <td>int</td>\n",
       "      <td>O_RDONLY|O_LARGEFILE</td>\n",
       "      <td>flags</td>\n",
       "      <td>dev_t</td>\n",
       "      <td>5</td>\n",
       "      <td>dev</td>\n",
       "      <td>unsigned long</td>\n",
       "      <td>38957</td>\n",
       "      <td>inode</td>\n",
       "    </tr>\n",
       "    <tr>\n",
       "      <th>10</th>\n",
       "      <td>[{'name': 'pathname', 'type': 'const char*', '...</td>\n",
       "      <td>{\"name\": \"pathname\", \"type\": \"const char*\", \"v...</td>\n",
       "      <td>const char*</td>\n",
       "      <td>/proc/646/stat</td>\n",
       "      <td>pathname</td>\n",
       "      <td>int</td>\n",
       "      <td>O_RDONLY|O_LARGEFILE</td>\n",
       "      <td>flags</td>\n",
       "      <td>dev_t</td>\n",
       "      <td>5</td>\n",
       "      <td>dev</td>\n",
       "      <td>unsigned long</td>\n",
       "      <td>39185</td>\n",
       "      <td>inode</td>\n",
       "    </tr>\n",
       "    <tr>\n",
       "      <th>11</th>\n",
       "      <td>[{'name': 'dirfd', 'type': 'int', 'value': -10...</td>\n",
       "      <td>{\"name\": \"dirfd\", \"type\": \"int\", \"value\": -100...</td>\n",
       "      <td>int</td>\n",
       "      <td>-100</td>\n",
       "      <td>dirfd</td>\n",
       "      <td>const char*</td>\n",
       "      <td>/lib/x86_64-linux-gnu/libnsl.so.1</td>\n",
       "      <td>pathname</td>\n",
       "      <td>int</td>\n",
       "      <td>O_RDONLY|O_CLOEXEC</td>\n",
       "      <td>flags</td>\n",
       "      <td>mode_t</td>\n",
       "      <td>1472757592</td>\n",
       "      <td>mode</td>\n",
       "    </tr>\n",
       "    <tr>\n",
       "      <th>12</th>\n",
       "      <td>[{'name': 'dirfd', 'type': 'int', 'value': 6},...</td>\n",
       "      <td>{\"name\": \"dirfd\", \"type\": \"int\", \"value\": 6}, ...</td>\n",
       "      <td>int</td>\n",
       "      <td>6</td>\n",
       "      <td>dirfd</td>\n",
       "      <td>const char*</td>\n",
       "      <td>sys</td>\n",
       "      <td>pathname</td>\n",
       "      <td>int</td>\n",
       "      <td>O_RDONLY|O_NOFOLLOW|O_CLOEXEC|O_PATH</td>\n",
       "      <td>flags</td>\n",
       "      <td>mode_t</td>\n",
       "      <td>678600742</td>\n",
       "      <td>mode</td>\n",
       "    </tr>\n",
       "    <tr>\n",
       "      <th>13</th>\n",
       "      <td>[{'name': 'dirfd', 'type': 'int', 'value': 6},...</td>\n",
       "      <td>{\"name\": \"dirfd\", \"type\": \"int\", \"value\": 6}, ...</td>\n",
       "      <td>int</td>\n",
       "      <td>6</td>\n",
       "      <td>dirfd</td>\n",
       "      <td>const char*</td>\n",
       "      <td>sys</td>\n",
       "      <td>pathname</td>\n",
       "      <td>unsigned long</td>\n",
       "      <td>O_RDONLY|O_NOFOLLOW|O_CLOEXEC|O_PATH</td>\n",
       "      <td>flags</td>\n",
       "      <td>int*</td>\n",
       "      <td>1215512614</td>\n",
       "      <td>mode</td>\n",
       "    </tr>\n",
       "    <tr>\n",
       "      <th>14</th>\n",
       "      <td>[{'name': 'pathname', 'type': 'const char*', '...</td>\n",
       "      <td>{\"name\": \"pathname\", \"type\": \"const char*\", \"v...</td>\n",
       "      <td>const char*</td>\n",
       "      <td>/sys/devices/virtual/dmi/id/sys_vendor</td>\n",
       "      <td>pathname</td>\n",
       "      <td>unsigned int</td>\n",
       "      <td>O_RDONLY|O_LARGEFILE</td>\n",
       "      <td>flags</td>\n",
       "      <td>dev_t</td>\n",
       "      <td>22</td>\n",
       "      <td>dev</td>\n",
       "      <td>unsigned long</td>\n",
       "      <td>721</td>\n",
       "      <td>inode</td>\n",
       "    </tr>\n",
       "  </tbody>\n",
       "</table>\n",
       "</div>"
      ],
      "text/plain": [
       "                                                 args  \\\n",
       "0         [{'name': 'fd', 'type': 'int', 'value': 9}]   \n",
       "1   [{'name': 'cap', 'type': 'int', 'value': 'CAP_...   \n",
       "2   [{'name': 'dirfd', 'type': 'int', 'value': -10...   \n",
       "3   [{'name': 'pathname', 'type': 'const char*', '...   \n",
       "4   [{'name': 'pathname', 'type': 'const char*', '...   \n",
       "5         [{'name': 'fd', 'type': 'int', 'value': 9}]   \n",
       "6   [{'name': 'oldfd', 'type': 'int', 'value': 5},...   \n",
       "7   [{'name': 'dirfd', 'type': 'int', 'value': -10...   \n",
       "8   [{'name': 'fd', 'type': 'unsigned int', 'value...   \n",
       "9   [{'name': 'pathname', 'type': 'const char*', '...   \n",
       "10  [{'name': 'pathname', 'type': 'const char*', '...   \n",
       "11  [{'name': 'dirfd', 'type': 'int', 'value': -10...   \n",
       "12  [{'name': 'dirfd', 'type': 'int', 'value': 6},...   \n",
       "13  [{'name': 'dirfd', 'type': 'int', 'value': 6},...   \n",
       "14  [{'name': 'pathname', 'type': 'const char*', '...   \n",
       "\n",
       "                                        stripped_args        type_0  \\\n",
       "0           {\"name\": \"fd\", \"type\": \"int\", \"value\": 9}           int   \n",
       "1   {\"name\": \"cap\", \"type\": \"int\", \"value\": \"CAP_D...           int   \n",
       "2   {\"name\": \"dirfd\", \"type\": \"int\", \"value\": -100...           int   \n",
       "3   {\"name\": \"pathname\", \"type\": \"const char*\", \"v...   const char*   \n",
       "4   {\"name\": \"pathname\", \"type\": \"const char*\", \"v...   const char*   \n",
       "5           {\"name\": \"fd\", \"type\": \"int\", \"value\": 9}           int   \n",
       "6   {\"name\": \"oldfd\", \"type\": \"int\", \"value\": 5}, ...           int   \n",
       "7   {\"name\": \"dirfd\", \"type\": \"int\", \"value\": -100...           int   \n",
       "8   {\"name\": \"fd\", \"type\": \"unsigned int\", \"value\"...  unsigned int   \n",
       "9   {\"name\": \"pathname\", \"type\": \"const char*\", \"v...   const char*   \n",
       "10  {\"name\": \"pathname\", \"type\": \"const char*\", \"v...   const char*   \n",
       "11  {\"name\": \"dirfd\", \"type\": \"int\", \"value\": -100...           int   \n",
       "12  {\"name\": \"dirfd\", \"type\": \"int\", \"value\": 6}, ...           int   \n",
       "13  {\"name\": \"dirfd\", \"type\": \"int\", \"value\": 6}, ...           int   \n",
       "14  {\"name\": \"pathname\", \"type\": \"const char*\", \"v...   const char*   \n",
       "\n",
       "                                   value_0    name_0        type_1  \\\n",
       "0                                        9        fd           NaN   \n",
       "1                         CAP_DAC_OVERRIDE       cap           NaN   \n",
       "2                                     -100     dirfd   const char*   \n",
       "3                               /proc/7141  pathname  struct stat*   \n",
       "4                          /proc/7582/comm  pathname           int   \n",
       "5                                        9        fd           NaN   \n",
       "6                                        5     oldfd           int   \n",
       "7                                     -100     dirfd   const char*   \n",
       "8                                       16        fd           NaN   \n",
       "9                         /proc/504/status  pathname           int   \n",
       "10                          /proc/646/stat  pathname           int   \n",
       "11                                    -100     dirfd   const char*   \n",
       "12                                       6     dirfd   const char*   \n",
       "13                                       6     dirfd   const char*   \n",
       "14  /sys/devices/virtual/dmi/id/sys_vendor  pathname  unsigned int   \n",
       "\n",
       "                              value_1    name_1         type_2  \\\n",
       "0                                 NaN       NaN            NaN   \n",
       "1                                 NaN       NaN            NaN   \n",
       "2                       /proc/88/stat  pathname  unsigned long   \n",
       "3                      0x7F521D47F680   statbuf            NaN   \n",
       "4                O_RDONLY|O_LARGEFILE     flags          dev_t   \n",
       "5                                 NaN       NaN            NaN   \n",
       "6                                   1     newfd            NaN   \n",
       "7                       /proc/22/stat  pathname            int   \n",
       "8                                 NaN       NaN            NaN   \n",
       "9                O_RDONLY|O_LARGEFILE     flags          dev_t   \n",
       "10               O_RDONLY|O_LARGEFILE     flags          dev_t   \n",
       "11  /lib/x86_64-linux-gnu/libnsl.so.1  pathname            int   \n",
       "12                                sys  pathname            int   \n",
       "13                                sys  pathname  unsigned long   \n",
       "14               O_RDONLY|O_LARGEFILE     flags          dev_t   \n",
       "\n",
       "                                 value_2 name_2         type_3     value_3  \\\n",
       "0                                    NaN    NaN            NaN         NaN   \n",
       "1                                    NaN    NaN            NaN         NaN   \n",
       "2                               O_RDONLY  flags           int*  3849653931   \n",
       "3                                    NaN    NaN            NaN         NaN   \n",
       "4                                      5    dev  unsigned long       46124   \n",
       "5                                    NaN    NaN            NaN         NaN   \n",
       "6                                    NaN    NaN            NaN         NaN   \n",
       "7                               O_RDONLY  flags         mode_t  1532681899   \n",
       "8                                    NaN    NaN            NaN         NaN   \n",
       "9                                      5    dev  unsigned long       38957   \n",
       "10                                     5    dev  unsigned long       39185   \n",
       "11                    O_RDONLY|O_CLOEXEC  flags         mode_t  1472757592   \n",
       "12  O_RDONLY|O_NOFOLLOW|O_CLOEXEC|O_PATH  flags         mode_t   678600742   \n",
       "13  O_RDONLY|O_NOFOLLOW|O_CLOEXEC|O_PATH  flags           int*  1215512614   \n",
       "14                                    22    dev  unsigned long         721   \n",
       "\n",
       "   name_3  \n",
       "0     NaN  \n",
       "1     NaN  \n",
       "2    mode  \n",
       "3     NaN  \n",
       "4   inode  \n",
       "5     NaN  \n",
       "6     NaN  \n",
       "7    mode  \n",
       "8     NaN  \n",
       "9   inode  \n",
       "10  inode  \n",
       "11   mode  \n",
       "12   mode  \n",
       "13   mode  \n",
       "14  inode  "
      ]
     },
     "execution_count": 57,
     "metadata": {},
     "output_type": "execute_result"
    }
   ],
   "source": [
    "sample_df = sample_df.reset_index(drop=True)\n",
    "merged_sample = pd.concat([sample_df, processed], axis=1)\n",
    "merged_sample"
   ]
  },
  {
   "cell_type": "code",
   "execution_count": 60,
   "id": "d5a9d253",
   "metadata": {},
   "outputs": [],
   "source": [
    "train_df[\"processId\"] = train_df[\"processId\"].map(lambda x: 0 if x in [0, 1, 2] else 1)  # Map to OS/not OS\n",
    "train_df[\"parentProcessId\"] = train_df[\"parentProcessId\"].map(lambda x: 0 if x in [0, 1, 2] else 1)  # Map to OS/not OS\n",
    "train_df[\"userId\"] = train_df[\"userId\"].map(lambda x: 0 if x < 1000 else 1)  # Map to OS/not OS\n",
    "train_df[\"mountNamespace\"] = train_df[\"mountNamespace\"].map(lambda x: 0 if x == 4026531840 else 1)  # Map to mount access to mnt/ (all non-OS users) /elsewhere\n",
    "train_df[\"eventId\"] = train_df[\"eventId\"]  # Keep eventId values (requires knowing max value)\n",
    "train_df[\"returnValue\"] = train_df[\"returnValue\"].map(lambda x: 0 if x == 0 else (1 if x > 0 else 2))  # Map to success/success with value/error"
   ]
  },
  {
   "cell_type": "code",
   "execution_count": 58,
   "id": "18e9b885",
   "metadata": {},
   "outputs": [
    {
     "data": {
      "text/html": [
       "<div>\n",
       "<style scoped>\n",
       "    .dataframe tbody tr th:only-of-type {\n",
       "        vertical-align: middle;\n",
       "    }\n",
       "\n",
       "    .dataframe tbody tr th {\n",
       "        vertical-align: top;\n",
       "    }\n",
       "\n",
       "    .dataframe thead th {\n",
       "        text-align: right;\n",
       "    }\n",
       "</style>\n",
       "<table border=\"1\" class=\"dataframe\">\n",
       "  <thead>\n",
       "    <tr style=\"text-align: right;\">\n",
       "      <th></th>\n",
       "      <th>timestamp</th>\n",
       "      <th>processId</th>\n",
       "      <th>threadId</th>\n",
       "      <th>parentProcessId</th>\n",
       "      <th>userId</th>\n",
       "      <th>mountNamespace</th>\n",
       "      <th>processName</th>\n",
       "      <th>hostName</th>\n",
       "      <th>eventId</th>\n",
       "      <th>eventName</th>\n",
       "      <th>stackAddresses</th>\n",
       "      <th>argsNum</th>\n",
       "      <th>returnValue</th>\n",
       "      <th>args</th>\n",
       "      <th>sus</th>\n",
       "      <th>evil</th>\n",
       "    </tr>\n",
       "  </thead>\n",
       "  <tbody>\n",
       "    <tr>\n",
       "      <th>0</th>\n",
       "      <td>1809.495787</td>\n",
       "      <td>381</td>\n",
       "      <td>7337</td>\n",
       "      <td>1</td>\n",
       "      <td>100</td>\n",
       "      <td>4026532231</td>\n",
       "      <td>close</td>\n",
       "      <td>ip-10-100-1-120</td>\n",
       "      <td>157</td>\n",
       "      <td>prctl</td>\n",
       "      <td>[140662171848350, 11649800180280676]</td>\n",
       "      <td>5</td>\n",
       "      <td>0</td>\n",
       "      <td>[{'name': 'option', 'type': 'int', 'value': 'P...</td>\n",
       "      <td>1</td>\n",
       "      <td>0</td>\n",
       "    </tr>\n",
       "    <tr>\n",
       "      <th>1</th>\n",
       "      <td>1809.495832</td>\n",
       "      <td>381</td>\n",
       "      <td>7337</td>\n",
       "      <td>1</td>\n",
       "      <td>100</td>\n",
       "      <td>4026532231</td>\n",
       "      <td>close</td>\n",
       "      <td>ip-10-100-1-120</td>\n",
       "      <td>3</td>\n",
       "      <td>close</td>\n",
       "      <td>[140662171777451]</td>\n",
       "      <td>1</td>\n",
       "      <td>0</td>\n",
       "      <td>[{'name': 'fd', 'type': 'int', 'value': 19}]</td>\n",
       "      <td>1</td>\n",
       "      <td>0</td>\n",
       "    </tr>\n",
       "    <tr>\n",
       "      <th>2</th>\n",
       "      <td>1809.495921</td>\n",
       "      <td>381</td>\n",
       "      <td>7337</td>\n",
       "      <td>1</td>\n",
       "      <td>100</td>\n",
       "      <td>4026532231</td>\n",
       "      <td>close</td>\n",
       "      <td>ip-10-100-1-120</td>\n",
       "      <td>1010</td>\n",
       "      <td>sched_process_exit</td>\n",
       "      <td>[]</td>\n",
       "      <td>0</td>\n",
       "      <td>0</td>\n",
       "      <td>[]</td>\n",
       "      <td>1</td>\n",
       "      <td>0</td>\n",
       "    </tr>\n",
       "    <tr>\n",
       "      <th>3</th>\n",
       "      <td>1894.139651</td>\n",
       "      <td>7347</td>\n",
       "      <td>7347</td>\n",
       "      <td>7341</td>\n",
       "      <td>0</td>\n",
       "      <td>4026531840</td>\n",
       "      <td>sh</td>\n",
       "      <td>ip-10-100-1-120</td>\n",
       "      <td>21</td>\n",
       "      <td>access</td>\n",
       "      <td>[]</td>\n",
       "      <td>2</td>\n",
       "      <td>-2</td>\n",
       "      <td>[{'name': 'pathname', 'type': 'const char*', '...</td>\n",
       "      <td>1</td>\n",
       "      <td>0</td>\n",
       "    </tr>\n",
       "    <tr>\n",
       "      <th>4</th>\n",
       "      <td>1894.142127</td>\n",
       "      <td>7347</td>\n",
       "      <td>7347</td>\n",
       "      <td>7341</td>\n",
       "      <td>0</td>\n",
       "      <td>4026531840</td>\n",
       "      <td>sh</td>\n",
       "      <td>ip-10-100-1-120</td>\n",
       "      <td>1005</td>\n",
       "      <td>security_file_open</td>\n",
       "      <td>[139778263990104, 139778263906698]</td>\n",
       "      <td>4</td>\n",
       "      <td>0</td>\n",
       "      <td>[{'name': 'pathname', 'type': 'const char*', '...</td>\n",
       "      <td>1</td>\n",
       "      <td>0</td>\n",
       "    </tr>\n",
       "  </tbody>\n",
       "</table>\n",
       "</div>"
      ],
      "text/plain": [
       "     timestamp  processId  threadId  parentProcessId  userId  mountNamespace  \\\n",
       "0  1809.495787        381      7337                1     100      4026532231   \n",
       "1  1809.495832        381      7337                1     100      4026532231   \n",
       "2  1809.495921        381      7337                1     100      4026532231   \n",
       "3  1894.139651       7347      7347             7341       0      4026531840   \n",
       "4  1894.142127       7347      7347             7341       0      4026531840   \n",
       "\n",
       "  processName         hostName  eventId           eventName  \\\n",
       "0       close  ip-10-100-1-120      157               prctl   \n",
       "1       close  ip-10-100-1-120        3               close   \n",
       "2       close  ip-10-100-1-120     1010  sched_process_exit   \n",
       "3          sh  ip-10-100-1-120       21              access   \n",
       "4          sh  ip-10-100-1-120     1005  security_file_open   \n",
       "\n",
       "                         stackAddresses  argsNum  returnValue  \\\n",
       "0  [140662171848350, 11649800180280676]        5            0   \n",
       "1                     [140662171777451]        1            0   \n",
       "2                                    []        0            0   \n",
       "3                                    []        2           -2   \n",
       "4    [139778263990104, 139778263906698]        4            0   \n",
       "\n",
       "                                                args  sus  evil  \n",
       "0  [{'name': 'option', 'type': 'int', 'value': 'P...    1     0  \n",
       "1       [{'name': 'fd', 'type': 'int', 'value': 19}]    1     0  \n",
       "2                                                 []    1     0  \n",
       "3  [{'name': 'pathname', 'type': 'const char*', '...    1     0  \n",
       "4  [{'name': 'pathname', 'type': 'const char*', '...    1     0  "
      ]
     },
     "execution_count": 58,
     "metadata": {},
     "output_type": "execute_result"
    }
   ],
   "source": [
    "train_df.head(5)"
   ]
  },
  {
   "cell_type": "code",
   "execution_count": 59,
   "id": "3c59df4a",
   "metadata": {},
   "outputs": [],
   "source": [
    "train = train_df[[\"processId\", \"parentProcessId\", \"userId\", \"mountNamespace\", \"eventId\", \"argsNum\", \"returnValue\"]]\n",
    "train_labels = train_df['sus']"
   ]
  },
  {
   "cell_type": "code",
   "execution_count": 60,
   "id": "2e3d74f8",
   "metadata": {},
   "outputs": [
    {
     "data": {
      "text/html": [
       "<div>\n",
       "<style scoped>\n",
       "    .dataframe tbody tr th:only-of-type {\n",
       "        vertical-align: middle;\n",
       "    }\n",
       "\n",
       "    .dataframe tbody tr th {\n",
       "        vertical-align: top;\n",
       "    }\n",
       "\n",
       "    .dataframe thead th {\n",
       "        text-align: right;\n",
       "    }\n",
       "</style>\n",
       "<table border=\"1\" class=\"dataframe\">\n",
       "  <thead>\n",
       "    <tr style=\"text-align: right;\">\n",
       "      <th></th>\n",
       "      <th>processId</th>\n",
       "      <th>parentProcessId</th>\n",
       "      <th>userId</th>\n",
       "      <th>mountNamespace</th>\n",
       "      <th>eventId</th>\n",
       "      <th>argsNum</th>\n",
       "      <th>returnValue</th>\n",
       "    </tr>\n",
       "  </thead>\n",
       "  <tbody>\n",
       "    <tr>\n",
       "      <th>0</th>\n",
       "      <td>381</td>\n",
       "      <td>1</td>\n",
       "      <td>100</td>\n",
       "      <td>4026532231</td>\n",
       "      <td>157</td>\n",
       "      <td>5</td>\n",
       "      <td>0</td>\n",
       "    </tr>\n",
       "    <tr>\n",
       "      <th>1</th>\n",
       "      <td>381</td>\n",
       "      <td>1</td>\n",
       "      <td>100</td>\n",
       "      <td>4026532231</td>\n",
       "      <td>3</td>\n",
       "      <td>1</td>\n",
       "      <td>0</td>\n",
       "    </tr>\n",
       "    <tr>\n",
       "      <th>2</th>\n",
       "      <td>381</td>\n",
       "      <td>1</td>\n",
       "      <td>100</td>\n",
       "      <td>4026532231</td>\n",
       "      <td>1010</td>\n",
       "      <td>0</td>\n",
       "      <td>0</td>\n",
       "    </tr>\n",
       "    <tr>\n",
       "      <th>3</th>\n",
       "      <td>7347</td>\n",
       "      <td>7341</td>\n",
       "      <td>0</td>\n",
       "      <td>4026531840</td>\n",
       "      <td>21</td>\n",
       "      <td>2</td>\n",
       "      <td>-2</td>\n",
       "    </tr>\n",
       "    <tr>\n",
       "      <th>4</th>\n",
       "      <td>7347</td>\n",
       "      <td>7341</td>\n",
       "      <td>0</td>\n",
       "      <td>4026531840</td>\n",
       "      <td>1005</td>\n",
       "      <td>4</td>\n",
       "      <td>0</td>\n",
       "    </tr>\n",
       "  </tbody>\n",
       "</table>\n",
       "</div>"
      ],
      "text/plain": [
       "   processId  parentProcessId  userId  mountNamespace  eventId  argsNum  \\\n",
       "0        381                1     100      4026532231      157        5   \n",
       "1        381                1     100      4026532231        3        1   \n",
       "2        381                1     100      4026532231     1010        0   \n",
       "3       7347             7341       0      4026531840       21        2   \n",
       "4       7347             7341       0      4026531840     1005        4   \n",
       "\n",
       "   returnValue  \n",
       "0            0  \n",
       "1            0  \n",
       "2            0  \n",
       "3           -2  \n",
       "4            0  "
      ]
     },
     "execution_count": 60,
     "metadata": {},
     "output_type": "execute_result"
    }
   ],
   "source": [
    "train.head(5)"
   ]
  },
  {
   "cell_type": "code",
   "execution_count": 61,
   "id": "49a2b3f3",
   "metadata": {},
   "outputs": [
    {
     "data": {
      "text/plain": [
       "0         1\n",
       "1         1\n",
       "2         1\n",
       "3         1\n",
       "4         1\n",
       "         ..\n",
       "763139    0\n",
       "763140    0\n",
       "763141    0\n",
       "763142    0\n",
       "763143    0\n",
       "Name: sus, Length: 763144, dtype: int64"
      ]
     },
     "execution_count": 61,
     "metadata": {},
     "output_type": "execute_result"
    }
   ],
   "source": [
    "train_labels"
   ]
  },
  {
   "cell_type": "code",
   "execution_count": 62,
   "id": "de5cd7d3",
   "metadata": {},
   "outputs": [],
   "source": [
    "assert len(train_labels) == train.shape[0]"
   ]
  },
  {
   "cell_type": "code",
   "execution_count": 63,
   "id": "f4765513",
   "metadata": {},
   "outputs": [],
   "source": [
    "def process_args_dataframe(df: pd.DataFrame, column_name: str) -> pd.DataFrame:\n",
    "    \"\"\"\n",
    "    Processes the `args` column within the dataset\n",
    "    \"\"\"\n",
    "    \n",
    "    processed_dataframes = []\n",
    "    data = df[column_name].tolist()\n",
    "    \n",
    "    # Debug counter\n",
    "    counter = 0\n",
    "    \n",
    "    for row in data:\n",
    "        if row == '[]': # If there are no args\n",
    "            pass\n",
    "        else:\n",
    "            try:\n",
    "                ret = process_args_row(row)\n",
    "                processed_dataframes.append(ret)\n",
    "            except:\n",
    "                print(f'Error Encounter: Row {counter} - {row}')\n",
    "\n",
    "            counter+=1\n",
    "        \n",
    "    processed = pd.concat(processed_dataframes).reset_index(drop=True)\n",
    "    processed.columns = processed.columns.str.lstrip()\n",
    "    \n",
    "    df = pd.concat([df, processed], axis=1)\n",
    "    \n",
    "    return df"
   ]
  },
  {
   "cell_type": "code",
   "execution_count": 64,
   "id": "74b26f20",
   "metadata": {},
   "outputs": [],
   "source": [
    "def prepare_dataset(df: pd.DataFrame, process_args=False) -> pd.DataFrame:\n",
    "    \"\"\"\n",
    "    Prepare the dataset by completing the standard feature engineering tasks\n",
    "    \"\"\"\n",
    "    \n",
    "    df[\"processId\"] = train_df[\"processId\"].map(lambda x: 0 if x in [0, 1, 2] else 1)  # Map to OS/not OS\n",
    "    df[\"parentProcessId\"] = train_df[\"parentProcessId\"].map(lambda x: 0 if x in [0, 1, 2] else 1)  # Map to OS/not OS\n",
    "    df[\"userId\"] = train_df[\"userId\"].map(lambda x: 0 if x < 1000 else 1)  # Map to OS/not OS\n",
    "    df[\"mountNamespace\"] = train_df[\"mountNamespace\"].map(lambda x: 0 if x == 4026531840 else 1)  # Map to mount access to mnt/ (all non-OS users) /elsewhere\n",
    "    df[\"eventId\"] = train_df[\"eventId\"]  # Keep eventId values (requires knowing max value)\n",
    "    df[\"returnValue\"] = train_df[\"returnValue\"].map(lambda x: 0 if x == 0 else (1 if x > 0 else 2))  # Map to success/success with value/error\n",
    "    \n",
    "    if process_args is True:\n",
    "        df = process_args_dataframe(df, 'args')\n",
    "        \n",
    "    features = df[[\"processId\", \"parentProcessId\", \"userId\", \"mountNamespace\", \"eventId\", \"argsNum\", \"returnValue\"]]\n",
    "    labels = df['sus']\n",
    "        \n",
    "    return features, labels"
   ]
  },
  {
   "cell_type": "code",
   "execution_count": 65,
   "id": "2b479289",
   "metadata": {},
   "outputs": [],
   "source": [
    "train_no_args_feats, train_no_args_labels = prepare_dataset(train_df)"
   ]
  },
  {
   "cell_type": "code",
   "execution_count": 66,
   "id": "9ef814c5",
   "metadata": {},
   "outputs": [
    {
     "data": {
      "text/html": [
       "<div>\n",
       "<style scoped>\n",
       "    .dataframe tbody tr th:only-of-type {\n",
       "        vertical-align: middle;\n",
       "    }\n",
       "\n",
       "    .dataframe tbody tr th {\n",
       "        vertical-align: top;\n",
       "    }\n",
       "\n",
       "    .dataframe thead th {\n",
       "        text-align: right;\n",
       "    }\n",
       "</style>\n",
       "<table border=\"1\" class=\"dataframe\">\n",
       "  <thead>\n",
       "    <tr style=\"text-align: right;\">\n",
       "      <th></th>\n",
       "      <th>processId</th>\n",
       "      <th>parentProcessId</th>\n",
       "      <th>userId</th>\n",
       "      <th>mountNamespace</th>\n",
       "      <th>eventId</th>\n",
       "      <th>argsNum</th>\n",
       "      <th>returnValue</th>\n",
       "    </tr>\n",
       "  </thead>\n",
       "  <tbody>\n",
       "    <tr>\n",
       "      <th>0</th>\n",
       "      <td>1</td>\n",
       "      <td>0</td>\n",
       "      <td>0</td>\n",
       "      <td>1</td>\n",
       "      <td>157</td>\n",
       "      <td>5</td>\n",
       "      <td>0</td>\n",
       "    </tr>\n",
       "    <tr>\n",
       "      <th>1</th>\n",
       "      <td>1</td>\n",
       "      <td>0</td>\n",
       "      <td>0</td>\n",
       "      <td>1</td>\n",
       "      <td>3</td>\n",
       "      <td>1</td>\n",
       "      <td>0</td>\n",
       "    </tr>\n",
       "    <tr>\n",
       "      <th>2</th>\n",
       "      <td>1</td>\n",
       "      <td>0</td>\n",
       "      <td>0</td>\n",
       "      <td>1</td>\n",
       "      <td>1010</td>\n",
       "      <td>0</td>\n",
       "      <td>0</td>\n",
       "    </tr>\n",
       "    <tr>\n",
       "      <th>3</th>\n",
       "      <td>1</td>\n",
       "      <td>1</td>\n",
       "      <td>0</td>\n",
       "      <td>0</td>\n",
       "      <td>21</td>\n",
       "      <td>2</td>\n",
       "      <td>2</td>\n",
       "    </tr>\n",
       "    <tr>\n",
       "      <th>4</th>\n",
       "      <td>1</td>\n",
       "      <td>1</td>\n",
       "      <td>0</td>\n",
       "      <td>0</td>\n",
       "      <td>1005</td>\n",
       "      <td>4</td>\n",
       "      <td>0</td>\n",
       "    </tr>\n",
       "  </tbody>\n",
       "</table>\n",
       "</div>"
      ],
      "text/plain": [
       "   processId  parentProcessId  userId  mountNamespace  eventId  argsNum  \\\n",
       "0          1                0       0               1      157        5   \n",
       "1          1                0       0               1        3        1   \n",
       "2          1                0       0               1     1010        0   \n",
       "3          1                1       0               0       21        2   \n",
       "4          1                1       0               0     1005        4   \n",
       "\n",
       "   returnValue  \n",
       "0            0  \n",
       "1            0  \n",
       "2            0  \n",
       "3            2  \n",
       "4            0  "
      ]
     },
     "execution_count": 66,
     "metadata": {},
     "output_type": "execute_result"
    }
   ],
   "source": [
    "train_no_args_feats.head()"
   ]
  },
  {
   "cell_type": "code",
   "execution_count": 67,
   "id": "b26e00b6",
   "metadata": {},
   "outputs": [
    {
     "data": {
      "text/plain": [
       "0    1\n",
       "1    1\n",
       "2    1\n",
       "3    1\n",
       "4    1\n",
       "Name: sus, dtype: int64"
      ]
     },
     "execution_count": 67,
     "metadata": {},
     "output_type": "execute_result"
    }
   ],
   "source": [
    "train_no_args_labels.head()"
   ]
  },
  {
   "cell_type": "markdown",
   "id": "f7b502c6",
   "metadata": {},
   "source": [
    "#Prepare and Train ,Test and Vallidate The data"
   ]
  },
  {
   "cell_type": "code",
   "execution_count": 68,
   "id": "d385b297",
   "metadata": {},
   "outputs": [],
   "source": [
    "train_df_feats, train_df_labels = prepare_dataset(train_df)\n",
    "test_df_feats, test_df_labels = prepare_dataset(test_df)\n",
    "val_df_feats, val_df_labels = prepare_dataset(validation_df)"
   ]
  },
  {
   "cell_type": "code",
   "execution_count": 69,
   "id": "ae8f45ac",
   "metadata": {},
   "outputs": [],
   "source": [
    "def metric_printer(y_true, y_pred):\n",
    "    \n",
    "    y_true[y_true == 1] = -1\n",
    "    y_true[y_true == 0] = 1\n",
    "    \n",
    "    metric_tuple = precision_recall_fscore_support(y_true, y_pred, average=\"weighted\", pos_label = -1)\n",
    "    print(f'Precision:\\t{metric_tuple[0]}')\n",
    "    print(f'Recall:\\t\\t{metric_tuple[1]:.3f}')\n",
    "    print(f'F1-Score:\\t{metric_tuple[2]:.3f}')\n",
    "\n",
    "def output_roc_plot(y, pred):\n",
    "    fpr, tpr, thresholds = metrics.roc_curve(y, pred)\n",
    "    roc_auc = metrics.auc(fpr, tpr)\n",
    "    display = metrics.RocCurveDisplay(fpr=fpr, tpr=tpr, roc_auc=roc_auc, estimator_name='Isolation Forest')\n",
    "    display.plot()\n",
    "    plt.show()"
   ]
  },
  {
   "cell_type": "code",
   "execution_count": 70,
   "id": "266ea058",
   "metadata": {},
   "outputs": [],
   "source": [
    "clf = IsolationForest(contamination=0.1, random_state=0).fit(train_df_feats)"
   ]
  },
  {
   "cell_type": "code",
   "execution_count": 71,
   "id": "449f1aec",
   "metadata": {},
   "outputs": [
    {
     "name": "stdout",
     "output_type": "stream",
     "text": [
      "Precision:\t0.9923146576418195\n",
      "Recall:\t\t0.460\n",
      "F1-Score:\t0.626\n"
     ]
    }
   ],
   "source": [
    "y_pred= clf.predict(val_df_feats)\n",
    "y_probas = clf.score_samples(val_df_feats)\n",
    "metric_printer(val_df_labels, y_pred)"
   ]
  },
  {
   "cell_type": "code",
   "execution_count": 72,
   "id": "21b5c10d",
   "metadata": {},
   "outputs": [
    {
     "name": "stdout",
     "output_type": "stream",
     "text": [
      "Precision:\t0.8951880300409012\n",
      "Recall:\t\t0.893\n",
      "F1-Score:\t0.894\n"
     ]
    }
   ],
   "source": [
    "y_pred= clf.predict(test_df_feats)\n",
    "y_probas = clf.score_samples(test_df_feats)\n",
    "metric_printer(test_df_labels, y_pred)"
   ]
  },
  {
   "cell_type": "code",
   "execution_count": 73,
   "id": "0940c056",
   "metadata": {},
   "outputs": [],
   "source": [
    "train_non_outliers = train_df_feats[train_df_labels==0]\n",
    "clf = linear_model.SGDOneClassSVM(random_state=0).fit(train_non_outliers)"
   ]
  },
  {
   "cell_type": "code",
   "execution_count": 74,
   "id": "bd8a0d92",
   "metadata": {},
   "outputs": [
    {
     "name": "stdout",
     "output_type": "stream",
     "text": [
      "Precision:\t1.0\n",
      "Recall:\t\t0.177\n",
      "F1-Score:\t0.300\n"
     ]
    }
   ],
   "source": [
    "y_preds = clf.predict(val_df_feats)\n",
    "metric_printer(val_df_labels, y_preds)"
   ]
  },
  {
   "cell_type": "code",
   "execution_count": 75,
   "id": "9f919bbb",
   "metadata": {},
   "outputs": [
    {
     "name": "stdout",
     "output_type": "stream",
     "text": [
      "Precision:\t1.0\n",
      "Recall:\t\t0.260\n",
      "F1-Score:\t0.412\n"
     ]
    }
   ],
   "source": [
    "y_preds = clf.predict(test_df_feats)\n",
    "metric_printer(test_df_labels, y_preds)"
   ]
  },
  {
   "cell_type": "code",
   "execution_count": 76,
   "id": "4349c3d1",
   "metadata": {},
   "outputs": [],
   "source": [
    "train_data = pd.DataFrame(train_df[[\"processId\", \"parentProcessId\", \"userId\", \"mountNamespace\", \"eventId\", \"argsNum\", \"returnValue\"]])\n",
    "train_labels = pd.DataFrame(train_df[[\"sus\"]])"
   ]
  },
  {
   "cell_type": "code",
   "execution_count": 81,
   "id": "a6dd77cf",
   "metadata": {},
   "outputs": [
    {
     "name": "stdout",
     "output_type": "stream",
     "text": [
      "Precision:\t1.0\n",
      "Recall:\t\t1.000\n",
      "F1-Score:\t1.000\n"
     ]
    }
   ],
   "source": [
    "from sklearn.ensemble import RandomForestClassifier\n",
    "clf = RandomForestClassifier(max_depth=2, random_state=0).fit(test_df_feats, test_df_labels)\n",
    "y_preds = clf.predict(val_df_feats)\n",
    "metric_printer(val_df_labels, y_preds)\n"
   ]
  },
  {
   "cell_type": "code",
   "execution_count": 82,
   "id": "93b83a5d",
   "metadata": {},
   "outputs": [
    {
     "name": "stdout",
     "output_type": "stream",
     "text": [
      "Precision:\t1.0\n",
      "Recall:\t\t1.000\n",
      "F1-Score:\t1.000\n"
     ]
    }
   ],
   "source": [
    "from sklearn.ensemble import RandomForestClassifier\n",
    "clf = RandomForestClassifier(max_depth=2, random_state=0).fit(val_df_feats, val_df_labels)\n",
    "y_preds = clf.predict(test_df_feats)\n",
    "metric_printer(test_df_labels, y_preds)"
   ]
  }
 ],
 "metadata": {
  "kernelspec": {
   "display_name": "Python 3 (ipykernel)",
   "language": "python",
   "name": "python3"
  },
  "language_info": {
   "codemirror_mode": {
    "name": "ipython",
    "version": 3
   },
   "file_extension": ".py",
   "mimetype": "text/x-python",
   "name": "python",
   "nbconvert_exporter": "python",
   "pygments_lexer": "ipython3",
   "version": "3.9.12"
  }
 },
 "nbformat": 4,
 "nbformat_minor": 5
}
